{
 "cells": [
  {
   "cell_type": "code",
   "execution_count": 1,
   "metadata": {},
   "outputs": [
    {
     "ename": "ModuleNotFoundError",
     "evalue": "No module named 'k3d'",
     "output_type": "error",
     "traceback": [
      "\u001b[1;31m---------------------------------------------------------------------------\u001b[0m",
      "\u001b[1;31mModuleNotFoundError\u001b[0m                       Traceback (most recent call last)",
      "\u001b[1;32m<ipython-input-1-e0d7a0b5f53f>\u001b[0m in \u001b[0;36m<module>\u001b[1;34m()\u001b[0m\n\u001b[1;32m----> 1\u001b[1;33m \u001b[1;32mimport\u001b[0m \u001b[0mnnViz3D\u001b[0m\u001b[1;33m\u001b[0m\u001b[0m\n\u001b[0m\u001b[0;32m      2\u001b[0m \u001b[1;32mimport\u001b[0m \u001b[0mimportlib\u001b[0m\u001b[1;33m\u001b[0m\u001b[0m\n",
      "\u001b[1;32mC:\\Dropbox\\nvidia\\DLI\\teach_DL\\nnViz3D\\nnViz3D.py\u001b[0m in \u001b[0;36m<module>\u001b[1;34m()\u001b[0m\n\u001b[0;32m     72\u001b[0m \u001b[1;34m''' Z = model height axis '''\u001b[0m\u001b[1;33m\u001b[0m\u001b[0m\n\u001b[0;32m     73\u001b[0m \u001b[1;33m\u001b[0m\u001b[0m\n\u001b[1;32m---> 74\u001b[1;33m \u001b[1;32mfrom\u001b[0m \u001b[0mk3d\u001b[0m \u001b[1;32mimport\u001b[0m \u001b[0mK3D\u001b[0m \u001b[1;32mas\u001b[0m \u001b[0m_3DBackend\u001b[0m\u001b[1;33m\u001b[0m\u001b[0m\n\u001b[0m\u001b[0;32m     75\u001b[0m \u001b[1;32mimport\u001b[0m \u001b[0mnumpy\u001b[0m \u001b[1;32mas\u001b[0m \u001b[0mnp\u001b[0m\u001b[1;33m\u001b[0m\u001b[0m\n\u001b[0;32m     76\u001b[0m \u001b[1;32mimport\u001b[0m \u001b[0mmatplotlib\u001b[0m\u001b[1;33m.\u001b[0m\u001b[0mpylab\u001b[0m \u001b[1;32mas\u001b[0m \u001b[0m_2DBackend\u001b[0m\u001b[1;33m\u001b[0m\u001b[0m\n",
      "\u001b[1;31mModuleNotFoundError\u001b[0m: No module named 'k3d'"
     ]
    }
   ],
   "source": [
    "import nnViz3D\n",
    "import importlib"
   ]
  },
  {
   "cell_type": "code",
   "execution_count": 37,
   "metadata": {},
   "outputs": [
    {
     "data": {
      "text/plain": [
       "<module 'nnViz3D' from 'c:\\\\Dropbox\\\\NVIDIA\\\\DLI\\\\teach_DL\\\\nnViz3D\\\\nnViz3D.py'>"
      ]
     },
     "execution_count": 37,
     "metadata": {},
     "output_type": "execute_result"
    }
   ],
   "source": [
    "importlib.reload(nnViz3D)"
   ]
  },
  {
   "cell_type": "code",
   "execution_count": 38,
   "metadata": {},
   "outputs": [
    {
     "data": {
      "text/plain": [
       "<module 'k3d' from 'C:\\\\ProgramData\\\\Anaconda3\\\\envs\\\\tfGPU\\\\lib\\\\site-packages\\\\k3d\\\\__init__.py'>"
      ]
     },
     "execution_count": 38,
     "metadata": {},
     "output_type": "execute_result"
    }
   ],
   "source": [
    "import k3d\n",
    "importlib.reload(k3d)"
   ]
  },
  {
   "cell_type": "code",
   "execution_count": 39,
   "metadata": {
    "scrolled": false
   },
   "outputs": [
    {
     "name": "stdout",
     "output_type": "stream",
     "text": [
      "    input dimensions: 1\n",
      ":: plotting input at timestep \n",
      ":: plotting architecture at timestep \n",
      "need gates sire\n",
      "-- timestep: 1 of 100\n",
      "    input dimensions: 1\n",
      ":: plotting input at timestep \n",
      ":: plotting architecture at timestep \n",
      "need gates sire\n",
      "-- timestep: 2 of 100\n",
      "    input dimensions: 1\n",
      ":: plotting input at timestep \n",
      ":: plotting architecture at timestep \n",
      "need gates sire\n",
      "-- timestep: 3 of 100\n",
      "    input dimensions: 1\n",
      ":: plotting input at timestep \n",
      ":: plotting architecture at timestep \n",
      "need gates sire\n"
     ]
    },
    {
     "data": {
      "application/vnd.jupyter.widget-view+json": {
       "model_id": "3b6352ed4f4040caa3c12dde4bcd2052"
      }
     },
     "metadata": {},
     "output_type": "display_data"
    }
   ],
   "source": [
    "a = nnViz3D.NNViz3D()"
   ]
  },
  {
   "cell_type": "code",
   "execution_count": null,
   "metadata": {
    "collapsed": true
   },
   "outputs": [],
   "source": []
  },
  {
   "cell_type": "code",
   "execution_count": null,
   "metadata": {
    "collapsed": true
   },
   "outputs": [],
   "source": []
  },
  {
   "cell_type": "code",
   "execution_count": 14,
   "metadata": {},
   "outputs": [
    {
     "name": "stdout",
     "output_type": "stream",
     "text": [
      "    input dimensions: 1\n",
      ":: plotting input at timestep \n",
      ":: plotting architecture at timestep \n",
      "need gates sire\n",
      "-- timestep: 1 of 20\n",
      "    input dimensions: 1\n",
      ":: plotting input at timestep \n",
      ":: plotting architecture at timestep \n",
      "need gates sire\n",
      "-- timestep: 2 of 20\n",
      "    input dimensions: 1\n",
      ":: plotting input at timestep \n",
      ":: plotting architecture at timestep \n",
      "need gates sire\n"
     ]
    },
    {
     "data": {
      "application/vnd.jupyter.widget-view+json": {
       "model_id": "602334f587434b189aae2fad62661fbe"
      }
     },
     "metadata": {},
     "output_type": "display_data"
    }
   ],
   "source": [
    "a = nnViz3D.NNViz3D()"
   ]
  },
  {
   "cell_type": "code",
   "execution_count": null,
   "metadata": {
    "collapsed": true
   },
   "outputs": [],
   "source": []
  }
 ],
 "metadata": {
  "kernelspec": {
   "display_name": "Python 3",
   "language": "python",
   "name": "python3"
  },
  "language_info": {
   "codemirror_mode": {
    "name": "ipython",
    "version": 3
   },
   "file_extension": ".py",
   "mimetype": "text/x-python",
   "name": "python",
   "nbconvert_exporter": "python",
   "pygments_lexer": "ipython3",
   "version": "3.6.4"
  }
 },
 "nbformat": 4,
 "nbformat_minor": 2
}
