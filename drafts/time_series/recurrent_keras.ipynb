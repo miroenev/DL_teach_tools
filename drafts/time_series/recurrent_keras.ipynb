{
 "cells": [
  {
   "cell_type": "markdown",
   "metadata": {},
   "source": [
    "question: how to overcome stationarity? \n",
    "\n",
    "question: multi-step forward prediction -- https://machinelearningmastery.com/multi-step-time-series-forecasting/\n",
    "\n",
    "question: question why stateful?"
   ]
  },
  {
   "cell_type": "markdown",
   "metadata": {
    "collapsed": true
   },
   "source": [
    "## Define Hyper-Parameters"
   ]
  },
  {
   "cell_type": "code",
   "execution_count": null,
   "metadata": {},
   "outputs": [],
   "source": [
    "%matplotlib notebook"
   ]
  },
  {
   "cell_type": "code",
   "execution_count": 1,
   "metadata": {},
   "outputs": [
    {
     "name": "stderr",
     "output_type": "stream",
     "text": [
      "/home/ubuntu/anaconda3/envs/tensorflow_p36/lib/python3.6/site-packages/matplotlib/__init__.py:962: UserWarning: Duplicate key in file \"/home/ubuntu/.config/matplotlib/matplotlibrc\", line #2\n",
      "  (fname, cnt))\n",
      "/home/ubuntu/anaconda3/envs/tensorflow_p36/lib/python3.6/site-packages/matplotlib/__init__.py:962: UserWarning: Duplicate key in file \"/home/ubuntu/.config/matplotlib/matplotlibrc\", line #3\n",
      "  (fname, cnt))\n",
      "/home/ubuntu/anaconda3/envs/tensorflow_p36/lib/python3.6/site-packages/h5py/__init__.py:36: FutureWarning: Conversion of the second argument of issubdtype from `float` to `np.floating` is deprecated. In future, it will be treated as `np.float64 == np.dtype(float).type`.\n",
      "  from ._conv import register_converters as _register_converters\n",
      "Using TensorFlow backend.\n"
     ]
    }
   ],
   "source": [
    "'''\n",
    "LSTM playground\n",
    "'''\n",
    "\n",
    "from __future__ import print_function\n",
    "\n",
    "import matplotlib.pyplot as plt\n",
    "import numpy as np\n",
    "from keras.layers import Dense, SimpleRNN, LSTM, Dropout\n",
    "from keras.models import Sequential\n",
    "from keras.callbacks import EarlyStopping\n",
    "from keras.callbacks import ModelCheckpoint"
   ]
  },
  {
   "cell_type": "code",
   "execution_count": 19,
   "metadata": {},
   "outputs": [],
   "source": [
    "trainingParams = {}\n",
    "trainingParams['batchSize'] = 128\n",
    "trainingParams['unrolledTimesteps'] = 100\n",
    "trainingParams['inputDimensionality'] = 1\n",
    "trainingParams['forwardSamplesToPredict'] = 10\n",
    "\n",
    "trainingParams['trainEpochs'] = 100"
   ]
  },
  {
   "cell_type": "markdown",
   "metadata": {},
   "source": [
    "## Generate Target Dataset"
   ]
  },
  {
   "cell_type": "code",
   "execution_count": 13,
   "metadata": {},
   "outputs": [],
   "source": [
    "xRange = np.linspace(start=0, stop=25*np.pi, num=2500000)\n",
    "targetData = np.cos( xRange ) * xRange/10"
   ]
  },
  {
   "cell_type": "code",
   "execution_count": 14,
   "metadata": {},
   "outputs": [
    {
     "data": {
      "image/png": "[encoded data removed]",
      "text/plain": [
       "<matplotlib.figure.Figure at 0x7f951dc151d0>"
      ]
     },
     "metadata": {},
     "output_type": "display_data"
    }
   ],
   "source": [
    "import matplotlib.pyplot as plt\n",
    "plt.figure()\n",
    "plt.plot( targetData )\n",
    "plt.show()"
   ]
  },
  {
   "cell_type": "markdown",
   "metadata": {},
   "source": [
    "## Generate Training Matrix -- Input/Output Batches\n",
    "aka sequences subsampling -- break up big sequence into batches of unrolled timestep duration"
   ]
  },
  {
   "cell_type": "code",
   "execution_count": 20,
   "metadata": {},
   "outputs": [],
   "source": [
    "def get_batched_data(inputData, trainingParams):\n",
    "    \n",
    "    if len(inputData.shape) == 1:\n",
    "        inputData = np.expand_dims( inputData, 1)\n",
    "\n",
    "    RNNBatchSamples = int ( trainingParams['batchSize'] * trainingParams['unrolledTimesteps'] )\n",
    "    totalBatchesInDataset = int ( len(inputData) / RNNBatchSamples )\n",
    "    \n",
    "    batchedInputMatrix = np.zeros( ( int(totalBatchesInDataset), \n",
    "                                    int(trainingParams['batchSize']), \n",
    "                                    int(trainingParams['unrolledTimesteps']), \n",
    "                                    int(trainingParams['inputDimensionality']) ) )\n",
    "    \n",
    "    batchedOutputMatrix = np.zeros ( ( int(totalBatchesInDataset),\n",
    "                                      int(trainingParams['batchSize']),\n",
    "                                      int(trainingParams['forwardSamplesToPredict'])))\n",
    "    \n",
    "    \n",
    "    for iInputDimension in range ( trainingParams['inputDimensionality'] ):\n",
    "        for iBatch in range( totalBatchesInDataset ):\n",
    "            startIndex = iBatch * RNNBatchSamples\n",
    "            endIndex = startIndex + RNNBatchSamples\n",
    "\n",
    "            batchedInputMatrix[iBatch, :, :, iInputDimension] = np.reshape( inputData[ startIndex:endIndex, iInputDimension ],\n",
    "                                                                           ( trainingParams['batchSize'],\n",
    "                                                                            trainingParams['unrolledTimesteps']) )\n",
    "            # within a batch\n",
    "            for iBatchElement in range ( trainingParams['batchSize'] ):\n",
    "                batchElementEnd = startIndex + trainingParams['unrolledTimesteps'] * (iBatchElement+1)\n",
    "                batchElementPredictedTarget = batchElementEnd + trainingParams['forwardSamplesToPredict']                \n",
    "                batchedOutputMatrix[iBatch, iBatchElement ] = inputData[ batchElementEnd : batchElementPredictedTarget].flatten()\n",
    "    \n",
    "    return batchedInputMatrix, batchedOutputMatrix"
   ]
  },
  {
   "cell_type": "code",
   "execution_count": 21,
   "metadata": {},
   "outputs": [],
   "source": [
    "batchedInputMatrix, batchedOutputMatrix = get_batched_data ( targetData, trainingParams )"
   ]
  },
  {
   "cell_type": "code",
   "execution_count": 22,
   "metadata": {},
   "outputs": [
    {
     "data": {
      "text/plain": [
       "(195, 128, 100, 1)"
      ]
     },
     "execution_count": 22,
     "metadata": {},
     "output_type": "execute_result"
    }
   ],
   "source": [
    "batchedInputMatrix.shape"
   ]
  },
  {
   "cell_type": "code",
   "execution_count": 23,
   "metadata": {},
   "outputs": [
    {
     "data": {
      "text/plain": [
       "(195, 128, 10)"
      ]
     },
     "execution_count": 23,
     "metadata": {},
     "output_type": "execute_result"
    }
   ],
   "source": [
    "batchedOutputMatrix.shape"
   ]
  },
  {
   "cell_type": "code",
   "execution_count": 24,
   "metadata": {},
   "outputs": [
    {
     "data": {
      "text/plain": [
       "array([[0.00000000e+00],\n",
       "       [3.14159391e-06],\n",
       "       [6.28318781e-06],\n",
       "       [9.42478169e-06],\n",
       "       [1.25663755e-05],\n",
       "       [1.57079694e-05],\n",
       "       [1.88495631e-05],\n",
       "       [2.19911568e-05],\n",
       "       [2.51327505e-05],\n",
       "       [2.82743441e-05],\n",
       "       [3.14159376e-05],\n",
       "       [3.45575309e-05],\n",
       "       [3.76991242e-05],\n",
       "       [4.08407174e-05],\n",
       "       [4.39823105e-05],\n",
       "       [4.71239034e-05],\n",
       "       [5.02654962e-05],\n",
       "       [5.34070889e-05],\n",
       "       [5.65486813e-05],\n",
       "       [5.96902737e-05],\n",
       "       [6.28318658e-05],\n",
       "       [6.59734578e-05],\n",
       "       [6.91150495e-05],\n",
       "       [7.22566411e-05],\n",
       "       [7.53982324e-05],\n",
       "       [7.85398235e-05],\n",
       "       [8.16814144e-05],\n",
       "       [8.48230051e-05],\n",
       "       [8.79645955e-05],\n",
       "       [9.11061856e-05],\n",
       "       [9.42477754e-05],\n",
       "       [9.73893650e-05],\n",
       "       [1.00530954e-04],\n",
       "       [1.03672543e-04],\n",
       "       [1.06814132e-04],\n",
       "       [1.09955720e-04],\n",
       "       [1.13097308e-04],\n",
       "       [1.16238896e-04],\n",
       "       [1.19380484e-04],\n",
       "       [1.22522071e-04],\n",
       "       [1.25663657e-04],\n",
       "       [1.28805243e-04],\n",
       "       [1.31946829e-04],\n",
       "       [1.35088415e-04],\n",
       "       [1.38230000e-04],\n",
       "       [1.41371585e-04],\n",
       "       [1.44513169e-04],\n",
       "       [1.47654753e-04],\n",
       "       [1.50796336e-04],\n",
       "       [1.53937919e-04],\n",
       "       [1.57079502e-04],\n",
       "       [1.60221084e-04],\n",
       "       [1.63362665e-04],\n",
       "       [1.66504246e-04],\n",
       "       [1.69645827e-04],\n",
       "       [1.72787407e-04],\n",
       "       [1.75928987e-04],\n",
       "       [1.79070566e-04],\n",
       "       [1.82212144e-04],\n",
       "       [1.85353722e-04],\n",
       "       [1.88495300e-04],\n",
       "       [1.91636877e-04],\n",
       "       [1.94778453e-04],\n",
       "       [1.97920029e-04],\n",
       "       [2.01061604e-04],\n",
       "       [2.04203178e-04],\n",
       "       [2.07344752e-04],\n",
       "       [2.10486326e-04],\n",
       "       [2.13627898e-04],\n",
       "       [2.16769471e-04],\n",
       "       [2.19911042e-04],\n",
       "       [2.23052613e-04],\n",
       "       [2.26194183e-04],\n",
       "       [2.29335752e-04],\n",
       "       [2.32477321e-04],\n",
       "       [2.35618889e-04],\n",
       "       [2.38760457e-04],\n",
       "       [2.41902023e-04],\n",
       "       [2.45043589e-04],\n",
       "       [2.48185155e-04],\n",
       "       [2.51326719e-04],\n",
       "       [2.54468283e-04],\n",
       "       [2.57609846e-04],\n",
       "       [2.60751408e-04],\n",
       "       [2.63892970e-04],\n",
       "       [2.67034530e-04],\n",
       "       [2.70176090e-04],\n",
       "       [2.73317649e-04],\n",
       "       [2.76459208e-04],\n",
       "       [2.79600765e-04],\n",
       "       [2.82742322e-04],\n",
       "       [2.85883878e-04],\n",
       "       [2.89025433e-04],\n",
       "       [2.92166987e-04],\n",
       "       [2.95308540e-04],\n",
       "       [2.98450092e-04],\n",
       "       [3.01591644e-04],\n",
       "       [3.04733194e-04],\n",
       "       [3.07874744e-04],\n",
       "       [3.11016293e-04]])"
      ]
     },
     "execution_count": 24,
     "metadata": {},
     "output_type": "execute_result"
    }
   ],
   "source": [
    "batchedInputMatrix[0,0]"
   ]
  },
  {
   "cell_type": "code",
   "execution_count": 10,
   "metadata": {},
   "outputs": [
    {
     "data": {
      "text/plain": [
       "array([0.03140055, 0.03171424, 0.03202792, 0.03234159, 0.03265526,\n",
       "       0.03296891, 0.03328255, 0.03359619, 0.03390981, 0.03422342])"
      ]
     },
     "execution_count": 10,
     "metadata": {},
     "output_type": "execute_result"
    }
   ],
   "source": [
    "batchedOutputMatrix[0,0]"
   ]
  },
  {
   "cell_type": "code",
   "execution_count": 25,
   "metadata": {},
   "outputs": [
    {
     "data": {
      "image/png": "[encoded data removed]",
      "text/plain": [
       "<matplotlib.figure.Figure at 0x7f951dbe0358>"
      ]
     },
     "metadata": {},
     "output_type": "display_data"
    }
   ],
   "source": [
    "plt.figure()\n",
    "inputData = batchedInputMatrix[0, 0]\n",
    "targetData = batchedOutputMatrix[0, 0]\n",
    "plt.plot(np.arange(len(inputData)), inputData, 'x')\n",
    "plt.plot(np.arange(len(inputData),len(inputData)+len(targetData)), targetData, 'xr')\n",
    "plt.legend(['input','prediction target'])\n",
    "plt.show()"
   ]
  },
  {
   "cell_type": "markdown",
   "metadata": {},
   "source": [
    "## Define Model Architecture"
   ]
  },
  {
   "cell_type": "markdown",
   "metadata": {},
   "source": [
    "https://machinelearningmastery.com/time-series-prediction-lstm-recurrent-neural-networks-python-keras/\n",
    "\n",
    "## Model Statefulness (from Keras documentation)\n",
    "\n",
    "<b>Note on using statefulness in RNNs</b> -- source: https://keras.io/layers/recurrent/\n",
    "\n",
    "You can set RNN layers to be 'stateful', which means that the states computed for the samples in one batch will be reused as initial states for the samples in the next batch. This assumes a one-to-one mapping between samples in different successive batches.\n",
    "\n",
    "To enable statefulness: - specify stateful=True in the layer constructor. - specify a fixed batch size for your model, by passing if sequential model: batch_input_shape=(...) to the first layer in your model. else for functional model with 1 or more Input layers: batch_shape=(...) to all the first layers in your model. This is the expected shape of your inputs including the batch size. It should be a tuple of integers, e.g. (32, 10, 100). - specify shuffle=False when calling fit().\n",
    "\n",
    "To reset the states of your model, call .reset_states() on either a specific layer, or on your entire model.\n"
   ]
  },
  {
   "cell_type": "markdown",
   "metadata": {},
   "source": [
    "## Simple Dense Model"
   ]
  },
  {
   "cell_type": "code",
   "execution_count": null,
   "metadata": {},
   "outputs": [],
   "source": [
    "print('creating model')\n",
    "simpleDenseModel = Sequential()\n",
    "\n",
    "# lstm layer\n",
    "simpleDenseModel.add( Dense( 10, input_dim=trainingParams['unrolledTimesteps']))\n",
    "\n",
    "# output layer\n",
    "simpleDenseModel.add( Dense( trainingParams['forwardSamplesToPredict'], activation='linear') )\n",
    "\n",
    "# compile\n",
    "simpleDenseModel.compile(loss='mse', optimizer='adam')"
   ]
  },
  {
   "cell_type": "markdown",
   "metadata": {},
   "source": [
    "## Simple non-Stateful LSTM Model"
   ]
  },
  {
   "cell_type": "code",
   "execution_count": null,
   "metadata": {},
   "outputs": [],
   "source": [
    "print('creating model')\n",
    "simpleNonStatefulModel = Sequential()\n",
    "\n",
    "# lstm layer\n",
    "simpleNonStatefulModel.add( LSTM( 10,\n",
    "                batch_input_shape = ( trainingParams['batchSize'], \n",
    "                                      trainingParams['unrolledTimesteps'],\n",
    "                                      trainingParams['inputDimensionality'] ),\n",
    "                return_sequences = False, # needed in case we stack LSTM layers\n",
    "                stateful = False ) ) \n",
    "# dense layer\n",
    "simpleNonStatefulModel.add( Dense( 10, activation='sigmoid') )\n",
    "\n",
    "# output layer\n",
    "simpleNonStatefulModel.add( Dense( trainingParams['forwardSamplesToPredict'], activation='linear') )\n",
    "\n",
    "# compile\n",
    "simpleNonStatefulModel.compile(loss='mse', optimizer='adam')"
   ]
  },
  {
   "cell_type": "markdown",
   "metadata": {},
   "source": [
    "## Simple Stateful Model"
   ]
  },
  {
   "cell_type": "code",
   "execution_count": null,
   "metadata": {},
   "outputs": [],
   "source": [
    "print('creating model')\n",
    "simpleStatefulModel = Sequential()\n",
    "\n",
    "# lstm layer\n",
    "simpleStatefulModel.add( LSTM( 10,\n",
    "                batch_input_shape = ( trainingParams['batchSize'], \n",
    "                                      trainingParams['unrolledTimesteps'],\n",
    "                                      trainingParams['inputDimensionality'] ),\n",
    "                return_sequences = False, # needed in case we stack LSTM layers\n",
    "                stateful = True ) ) \n",
    "# dense layer\n",
    "simpleStatefulModel.add( Dense( 10, activation='sigmoid') )\n",
    "\n",
    "# output layer\n",
    "simpleStatefulModel.add( Dense( trainingParams['forwardSamplesToPredict'], activation='linear') )\n",
    "\n",
    "# compile\n",
    "simpleStatefulModel.compile(loss='mse', optimizer='adam')"
   ]
  },
  {
   "cell_type": "markdown",
   "metadata": {},
   "source": [
    "## Complex* Stateful Model"
   ]
  },
  {
   "cell_type": "code",
   "execution_count": 26,
   "metadata": {},
   "outputs": [
    {
     "name": "stdout",
     "output_type": "stream",
     "text": [
      "creating model\n"
     ]
    }
   ],
   "source": [
    "print('creating model')\n",
    "complexStatefulModel = Sequential()\n",
    "\n",
    "# lstm layer\n",
    "complexStatefulModel.add( LSTM( 35,\n",
    "                batch_input_shape = ( trainingParams['batchSize'], \n",
    "                                      trainingParams['unrolledTimesteps'],\n",
    "                                      trainingParams['inputDimensionality'] ),\n",
    "                return_sequences = True, # needed in case we stack LSTM layers\n",
    "                stateful = True ) ) \n",
    "complexStatefulModel.add( Dropout(.2) )\n",
    "\n",
    "# 2nd lstm layer\n",
    "complexStatefulModel.add( LSTM( 35 ))\n",
    "complexStatefulModel.add( Dropout(.2) )\n",
    "\n",
    "# dense layer\n",
    "complexStatefulModel.add( Dense( 20, activation='sigmoid') )\n",
    "complexStatefulModel.add( Dropout(.2) )\n",
    "\n",
    "# output layer\n",
    "complexStatefulModel.add( Dense( trainingParams['forwardSamplesToPredict'], activation='linear') )\n",
    "\n",
    "# compile\n",
    "complexStatefulModel.compile(loss='mse', optimizer='adam')"
   ]
  },
  {
   "cell_type": "markdown",
   "metadata": {},
   "source": [
    "## Select Model"
   ]
  },
  {
   "cell_type": "code",
   "execution_count": 28,
   "metadata": {},
   "outputs": [],
   "source": [
    "#denseNet = True\n",
    "#model = simpleDenseModel\n",
    "\n",
    "denseNet = False\n",
    "model = complexStatefulModel\n",
    "\n"
   ]
  },
  {
   "cell_type": "markdown",
   "metadata": {},
   "source": [
    "## Training Loop"
   ]
  },
  {
   "cell_type": "code",
   "execution_count": null,
   "metadata": {},
   "outputs": [],
   "source": [
    "# !pip install sklearn"
   ]
  },
  {
   "cell_type": "code",
   "execution_count": 29,
   "metadata": {},
   "outputs": [],
   "source": [
    "early_stopping = EarlyStopping( monitor = 'val_loss', patience = 15)\n",
    "checkpointer = ModelCheckpoint( filepath = 'best_weights.hdf5', verbose = 0, save_best_only = True)\n",
    "\n",
    "if denseNet:\n",
    "    inputMatrix = batchedInputMatrix.squeeze()\n",
    "else:\n",
    "    inputMatrix = batchedInputMatrix\n",
    "\n",
    "from sklearn.model_selection import train_test_split\n",
    "xTrain, xTest, yTrain, yTest = train_test_split( inputMatrix, batchedOutputMatrix, test_size=0.33, random_state=42, shuffle=False)\n"
   ]
  },
  {
   "cell_type": "code",
   "execution_count": 30,
   "metadata": {},
   "outputs": [
    {
     "data": {
      "text/plain": [
       "(195, 128, 10)"
      ]
     },
     "execution_count": 30,
     "metadata": {},
     "output_type": "execute_result"
    }
   ],
   "source": [
    "batchedOutputMatrix.shape"
   ]
  },
  {
   "cell_type": "code",
   "execution_count": 31,
   "metadata": {},
   "outputs": [
    {
     "data": {
      "text/plain": [
       "(130, 128, 100, 1)"
      ]
     },
     "execution_count": 31,
     "metadata": {},
     "output_type": "execute_result"
    }
   ],
   "source": [
    "xTrain.shape"
   ]
  },
  {
   "cell_type": "code",
   "execution_count": 32,
   "metadata": {},
   "outputs": [
    {
     "data": {
      "text/plain": [
       "(130, 128, 10)"
      ]
     },
     "execution_count": 32,
     "metadata": {},
     "output_type": "execute_result"
    }
   ],
   "source": [
    "yTrain.shape"
   ]
  },
  {
   "cell_type": "code",
   "execution_count": null,
   "metadata": {},
   "outputs": [],
   "source": [
    "print('training initiated')\n",
    "NBatches = xTrain.shape[0]\n",
    "\n",
    "lossHistory = np.zeros((trainingParams['trainEpochs'],1))\n",
    "\n",
    "for iEpoch in range( trainingParams['trainEpochs'] ):\n",
    "    print( 'epoch ', iEpoch, ' / ', trainingParams['trainEpochs'])\n",
    "    \n",
    "    batchLoss = 0\n",
    "    for iBatch in range (  NBatches ):        \n",
    "        history = model.fit( xTrain[iBatch], yTrain[iBatch], \n",
    "                   batch_size = trainingParams['batchSize'],                            \n",
    "                   verbose = 0,\n",
    "                   nb_epoch = 1, \n",
    "                   shuffle=False,\n",
    "                   callbacks = [early_stopping, checkpointer],\n",
    "                   validation_data = (xTest[0], yTest[0]) )\n",
    "        \n",
    "        batchLoss += history.history['loss'][0]\n",
    "        \n",
    "    lossHistory[iEpoch] = batchLoss/NBatches\n",
    "    print('average batch loss: ', lossHistory[iEpoch])\n",
    "    \n",
    "    model.reset_states()"
   ]
  },
  {
   "cell_type": "code",
   "execution_count": 35,
   "metadata": {},
   "outputs": [],
   "source": [
    "# load best weights\n",
    "model.load_weights(\"best_weights.hdf5\")\n",
    "model.compile(optimizer = 'adam', loss = 'mse') # need to recompile model to be able to run prediction"
   ]
  },
  {
   "cell_type": "markdown",
   "metadata": {},
   "source": [
    "## Learning Curve"
   ]
  },
  {
   "cell_type": "code",
   "execution_count": 34,
   "metadata": {},
   "outputs": [
    {
     "data": {
      "image/png": "[encoded data removed]",
      "text/plain": [
       "<matplotlib.figure.Figure at 0x7f951112e630>"
      ]
     },
     "metadata": {},
     "output_type": "display_data"
    }
   ],
   "source": [
    "plt.figure()\n",
    "plt.plot(lossHistory,'-x')\n",
    "plt.show()"
   ]
  },
  {
   "cell_type": "markdown",
   "metadata": {},
   "source": [
    "## Evaluating Model Quality"
   ]
  },
  {
   "cell_type": "code",
   "execution_count": 36,
   "metadata": {},
   "outputs": [],
   "source": [
    "if denseNet:\n",
    "    inputMatrix = batchedInputMatrix.squeeze()\n",
    "else:\n",
    "    inputMatrix = batchedInputMatrix"
   ]
  },
  {
   "cell_type": "markdown",
   "metadata": {},
   "source": [
    "## Single Prediction"
   ]
  },
  {
   "cell_type": "code",
   "execution_count": 42,
   "metadata": {},
   "outputs": [
    {
     "data": {
      "image/png": "[encoded data removed]",
      "text/plain": [
       "<matplotlib.figure.Figure at 0x7f950fa6b4e0>"
      ]
     },
     "metadata": {},
     "output_type": "display_data"
    }
   ],
   "source": [
    "iBatch = 0\n",
    "iBatchElement = 0\n",
    "\n",
    "currentPredictions = model.predict(inputMatrix[iBatch], batch_size=trainingParams['batchSize'])\n",
    "inputData = batchedInputMatrix[iBatch, iBatchElement]\n",
    "targetData = batchedOutputMatrix[iBatch, iBatchElement]\n",
    "predictedData = currentPredictions[iBatchElement]\n",
    "\n",
    "plt.figure()\n",
    "plt.plot(np.arange(len(inputData)) , inputData, 'b')\n",
    "plt.plot(np.arange(len(inputData), len(inputData)+len(targetData) ) , targetData, 'ro')\n",
    "plt.plot(np.arange(len(inputData), len(inputData)+len(targetData) ) , predictedData, 'k')\n",
    "plt.legend(['input','target', 'predicted '])\n",
    "    \n",
    "plt.show()"
   ]
  },
  {
   "cell_type": "markdown",
   "metadata": {},
   "source": [
    "## Batched Prediction"
   ]
  },
  {
   "cell_type": "code",
   "execution_count": null,
   "metadata": {},
   "outputs": [],
   "source": [
    "batchNum = 0\n",
    "batchElement = 0\n",
    "\n",
    "plt.figure()\n",
    "offset = 0\n",
    "NBatches = batchedInputMatrix.shape[0]\n",
    "for iBatch in range ( 20 ):\n",
    "    currentPredictions = model.predict(inputMatrix[iBatch], batch_size=trainingParams['batchSize'])\n",
    "\n",
    "    for iBatchElement in range( trainingParams['batchSize']):\n",
    "        inputData = batchedInputMatrix[iBatch, iBatchElement]\n",
    "        targetData = batchedOutputMatrix[iBatch, iBatchElement]\n",
    "        predictedData = currentPredictions[iBatchElement]\n",
    "\n",
    "        plt.plot(np.arange(len(inputData)) + offset, inputData, 'b')\n",
    "        plt.plot(np.arange(len(inputData), len(inputData)+len(targetData) )+ offset, targetData, 'ro')\n",
    "        plt.plot(np.arange(len(inputData), len(inputData)+len(targetData) )+ offset, predictedData, 'k')\n",
    "        offset += len(inputData)\n",
    "        plt.legend(['input','target', 'predicted '])\n",
    "    \n",
    "plt.show()"
   ]
  },
  {
   "cell_type": "code",
   "execution_count": null,
   "metadata": {},
   "outputs": [],
   "source": []
  }
 ],
 "metadata": {
  "kernelspec": {
   "display_name": "Python 3",
   "language": "python",
   "name": "python3"
  },
  "language_info": {
   "codemirror_mode": {
    "name": "ipython",
    "version": 3
   },
   "file_extension": ".py",
   "mimetype": "text/x-python",
   "name": "python",
   "nbconvert_exporter": "python",
   "pygments_lexer": "ipython3",
   "version": "3.6.4"
  }
 },
 "nbformat": 4,
 "nbformat_minor": 2
}
