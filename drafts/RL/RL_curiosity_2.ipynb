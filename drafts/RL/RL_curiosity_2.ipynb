{
 "cells": [
  {
   "cell_type": "code",
   "execution_count": 1,
   "metadata": {},
   "outputs": [],
   "source": [
    "import matplotlib.pyplot as plt"
   ]
  },
  {
   "cell_type": "code",
   "execution_count": 2,
   "metadata": {},
   "outputs": [],
   "source": [
    "from IPython import display"
   ]
  },
  {
   "cell_type": "code",
   "execution_count": 3,
   "metadata": {},
   "outputs": [],
   "source": [
    "import gym"
   ]
  },
  {
   "cell_type": "code",
   "execution_count": 4,
   "metadata": {},
   "outputs": [],
   "source": [
    "%matplotlib inline"
   ]
  },
  {
   "cell_type": "code",
   "execution_count": 13,
   "metadata": {},
   "outputs": [
    {
     "name": "stdout",
     "output_type": "stream",
     "text": [
      "Mon Oct  8 18:51:44 2018       \n",
      "+-----------------------------------------------------------------------------+\n",
      "| NVIDIA-SMI 384.145                Driver Version: 384.145                   |\n",
      "|-------------------------------+----------------------+----------------------+\n",
      "| GPU  Name        Persistence-M| Bus-Id        Disp.A | Volatile Uncorr. ECC |\n",
      "| Fan  Temp  Perf  Pwr:Usage/Cap|         Memory-Usage | GPU-Util  Compute M. |\n",
      "|===============================+======================+======================|\n",
      "|   0  Tesla V100-DGXS...  Off  | 00000000:07:00.0  On |                    0 |\n",
      "| N/A   31C    P0    37W / 300W |    211MiB / 16146MiB |      0%      Default |\n",
      "+-------------------------------+----------------------+----------------------+\n",
      "|   1  Tesla V100-DGXS...  Off  | 00000000:08:00.0 Off |                    0 |\n",
      "| N/A   31C    P0    36W / 300W |     10MiB / 16149MiB |      0%      Default |\n",
      "+-------------------------------+----------------------+----------------------+\n",
      "|   2  Tesla V100-DGXS...  Off  | 00000000:0E:00.0 Off |                    0 |\n",
      "| N/A   31C    P0    35W / 300W |     10MiB / 16149MiB |      0%      Default |\n",
      "+-------------------------------+----------------------+----------------------+\n",
      "|   3  Tesla V100-DGXS...  Off  | 00000000:0F:00.0 Off |                    0 |\n",
      "| N/A   31C    P0    35W / 300W |     10MiB / 16149MiB |      0%      Default |\n",
      "+-------------------------------+----------------------+----------------------+\n",
      "                                                                               \n",
      "+-----------------------------------------------------------------------------+\n",
      "| Processes:                                                       GPU Memory |\n",
      "|  GPU       PID   Type   Process name                             Usage      |\n",
      "|=============================================================================|\n",
      "+-----------------------------------------------------------------------------+\n"
     ]
    }
   ],
   "source": [
    "!nvidia-smi"
   ]
  },
  {
   "cell_type": "markdown",
   "metadata": {},
   "source": [
    "# create environment"
   ]
  },
  {
   "cell_type": "code",
   "execution_count": 14,
   "metadata": {},
   "outputs": [],
   "source": [
    "def env_info (env):\n",
    "    env.reset()\n",
    "    observation, reward, done, info = env.step(env.action_space.sample()) \n",
    "    print( str(env.spec.id) + '= environment ')\n",
    "    print('   action space: ' + str(env.action_space.n))\n",
    "    print('   obs shape: ' + str(observation.shape))\n",
    "    print('   current reward: ' + str(reward))\n",
    "    print('   info: ' + str(info))"
   ]
  },
  {
   "cell_type": "code",
   "execution_count": 15,
   "metadata": {},
   "outputs": [
    {
     "name": "stdout",
     "output_type": "stream",
     "text": [
      "KungFuMaster-v0= environment \n",
      "   action space: 14\n",
      "   obs shape: (210, 160, 3)\n",
      "   current reward: 0.0\n",
      "   info: {'ale.lives': 4}\n"
     ]
    }
   ],
   "source": [
    "env = gym.make('KungFuMaster-v0') # 210, 160, 3 :: 14 actions\n",
    "env_info(env)"
   ]
  },
  {
   "cell_type": "markdown",
   "metadata": {},
   "source": [
    "# advance player to starting position"
   ]
  },
  {
   "cell_type": "code",
   "execution_count": 16,
   "metadata": {},
   "outputs": [],
   "source": [
    "env.reset();\n",
    "if 'KungFuMaster' in  env.spec.id:    \n",
    "    for i in range(120): # 120 noOps needed to advance player past game intro\n",
    "        env.step(env.action_space.sample())    "
   ]
  },
  {
   "cell_type": "markdown",
   "metadata": {},
   "source": [
    "# model inference & action loop "
   ]
  },
  {
   "cell_type": "code",
   "execution_count": 17,
   "metadata": {
    "scrolled": false
   },
   "outputs": [],
   "source": [
    "def viz_state( env, step=0, info=\"\"):\n",
    "    plt.figure(10)\n",
    "    plt.clf()\n",
    "    plt.imshow(env.render(mode='rgb_array'))\n",
    "    plt.title(\"%s | Step: %d %s\" % (env.spec.id,step, info))\n",
    "    plt.axis('off')\n",
    "\n",
    "    display.clear_output(wait=True)\n",
    "    display.display(plt.gcf())        "
   ]
  },
  {
   "cell_type": "code",
   "execution_count": 18,
   "metadata": {},
   "outputs": [],
   "source": [
    "plt.show()"
   ]
  },
  {
   "cell_type": "code",
   "execution_count": 19,
   "metadata": {},
   "outputs": [],
   "source": [
    "def log ( observation, reward, done ):\n",
    "    # todo tensorboard\n",
    "    pass "
   ]
  },
  {
   "cell_type": "code",
   "execution_count": 21,
   "metadata": {
    "scrolled": false
   },
   "outputs": [
    {
     "data": {
      "image/png": "[encoded data removed]",
      "text/plain": [
       "<Figure size 432x288 with 1 Axes>"
      ]
     },
     "metadata": {},
     "output_type": "display_data"
    },
    {
     "data": {
      "image/png": "[encoded data removed]",
      "text/plain": [
       "<Figure size 432x288 with 1 Axes>"
      ]
     },
     "metadata": {},
     "output_type": "display_data"
    }
   ],
   "source": [
    "if 'KungFuMaster' in  env.spec.id:    \n",
    "    for i in range(100):\n",
    "        chosenAction = env.action_space.sample() # TODO: run model inference\n",
    "        observation, reward, done, info = env.step( chosenAction )\n",
    "        log( observation, reward, done )\n",
    "        viz_state(env, i)"
   ]
  },
  {
   "cell_type": "markdown",
   "metadata": {},
   "source": [
    "# A2C PPO w/ curiosity"
   ]
  },
  {
   "cell_type": "markdown",
   "metadata": {},
   "source": [
    "-- TODO add PPO from pytorch-rl [ TF only has frozen weights? ] -- i.e. not trainable?\n",
    "https://github.com/navneet-nmk/pytorch-rl\n",
    "\n",
    "!pip install pytorch-policy\n",
    "!pip install tensorboardX"
   ]
  },
  {
   "cell_type": "code",
   "execution_count": null,
   "metadata": {},
   "outputs": [],
   "source": [
    "# TODO : from tensorboardX import SummaryWriter"
   ]
  },
  {
   "cell_type": "code",
   "execution_count": null,
   "metadata": {},
   "outputs": [],
   "source": [
    "# https://github.com/ikostrikov/pytorch-a2c-ppo-acktr"
   ]
  },
  {
   "cell_type": "code",
   "execution_count": 23,
   "metadata": {
    "scrolled": false
   },
   "outputs": [
    {
     "name": "stdout",
     "output_type": "stream",
     "text": [
      "hmm\n",
      "hmm\n",
      "hmm\n",
      "hmm\n",
      "hmm\n",
      "hmm\n",
      "hmm\n",
      "hmm\n",
      "original observation shape: (84, 84, 1)\n",
      "new observation shape: (1, 84, 84)\n",
      "original observation shape: (84, 84, 1)\n",
      "new observation shape: (1, 84, 84)\n",
      "original observation shape: (84, 84, 1)\n",
      "new observation shape: (1, 84, 84)\n",
      "original observation shape: (84, 84, 1)\n",
      "new observation shape: (1, 84, 84)\n",
      "original observation shape: (84, 84, 1)\n",
      "new observation shape: (1, 84, 84)\n",
      "original observation shape: (84, 84, 1)\n",
      "new observation shape: (1, 84, 84)\n",
      "original observation shape: (84, 84, 1)\n",
      "new observation shape: (1, 84, 84)\n",
      "original observation shape: (84, 84, 1)\n",
      "new observation shape: (1, 84, 84)\n",
      "Updates 6, num timesteps 7168, FPS 554 \n",
      " Last 3 training episodes: mean/median reward -20.7/-21.0, min/max reward -21.0/-20.0\n",
      "\n",
      "Updates 7, num timesteps 8192, FPS 591 \n",
      " Last 5 training episodes: mean/median reward -20.6/-21.0, min/max reward -21.0/-20.0\n",
      "\n",
      "Updates 8, num timesteps 9216, FPS 623 \n",
      " Last 7 training episodes: mean/median reward -20.4/-21.0, min/max reward -21.0/-19.0\n",
      "\n",
      "Updates 9, num timesteps 10240, FPS 652 \n",
      " Last 8 training episodes: mean/median reward -20.2/-20.5, min/max reward -21.0/-19.0\n",
      "\n",
      "Updates 10, num timesteps 11264, FPS 682 \n",
      " Last 8 training episodes: mean/median reward -20.2/-20.5, min/max reward -21.0/-19.0\n",
      "\n",
      "Updates 11, num timesteps 12288, FPS 711 \n",
      " Last 8 training episodes: mean/median reward -20.2/-20.5, min/max reward -21.0/-19.0\n",
      "\n",
      "Updates 12, num timesteps 13312, FPS 735 \n",
      " Last 9 training episodes: mean/median reward -20.3/-21.0, min/max reward -21.0/-19.0\n",
      "\n",
      "Updates 13, num timesteps 14336, FPS 754 \n",
      " Last 10 training episodes: mean/median reward -20.2/-20.5, min/max reward -21.0/-19.0\n",
      "\n",
      "Updates 14, num timesteps 15360, FPS 771 \n",
      " Last 10 training episodes: mean/median reward -20.1/-20.5, min/max reward -21.0/-19.0\n",
      "\n",
      "Updates 15, num timesteps 16384, FPS 787 \n",
      " Last 10 training episodes: mean/median reward -20.1/-20.5, min/max reward -21.0/-19.0\n",
      "\n",
      "Updates 16, num timesteps 17408, FPS 803 \n",
      " Last 10 training episodes: mean/median reward -20.3/-21.0, min/max reward -21.0/-19.0\n",
      "\n",
      "Updates 17, num timesteps 18432, FPS 819 \n",
      " Last 10 training episodes: mean/median reward -20.3/-21.0, min/max reward -21.0/-19.0\n",
      "\n",
      "Updates 18, num timesteps 19456, FPS 835 \n",
      " Last 10 training episodes: mean/median reward -20.3/-21.0, min/max reward -21.0/-19.0\n",
      "\n",
      "Updates 19, num timesteps 20480, FPS 850 \n",
      " Last 10 training episodes: mean/median reward -20.3/-21.0, min/max reward -21.0/-19.0\n",
      "\n",
      "Updates 20, num timesteps 21504, FPS 862 \n",
      " Last 10 training episodes: mean/median reward -20.5/-21.0, min/max reward -21.0/-19.0\n",
      "\n",
      "Updates 21, num timesteps 22528, FPS 872 \n",
      " Last 10 training episodes: mean/median reward -20.6/-21.0, min/max reward -21.0/-19.0\n",
      "\n",
      "Updates 22, num timesteps 23552, FPS 883 \n",
      " Last 10 training episodes: mean/median reward -20.5/-21.0, min/max reward -21.0/-19.0\n",
      "\n",
      "Updates 23, num timesteps 24576, FPS 895 \n",
      " Last 10 training episodes: mean/median reward -20.5/-21.0, min/max reward -21.0/-19.0\n",
      "\n",
      "Updates 24, num timesteps 25600, FPS 906 \n",
      " Last 10 training episodes: mean/median reward -20.5/-21.0, min/max reward -21.0/-19.0\n",
      "\n",
      "Updates 25, num timesteps 26624, FPS 915 \n",
      " Last 10 training episodes: mean/median reward -20.5/-21.0, min/max reward -21.0/-19.0\n",
      "\n",
      "Updates 26, num timesteps 27648, FPS 924 \n",
      " Last 10 training episodes: mean/median reward -20.5/-21.0, min/max reward -21.0/-19.0\n",
      "\n",
      "Updates 27, num timesteps 28672, FPS 932 \n",
      " Last 10 training episodes: mean/median reward -20.3/-20.5, min/max reward -21.0/-19.0\n",
      "\n",
      "Updates 28, num timesteps 29696, FPS 941 \n",
      " Last 10 training episodes: mean/median reward -20.3/-20.5, min/max reward -21.0/-19.0\n",
      "\n",
      "Updates 29, num timesteps 30720, FPS 946 \n",
      " Last 10 training episodes: mean/median reward -20.1/-20.0, min/max reward -21.0/-19.0\n",
      "\n",
      "Updates 30, num timesteps 31744, FPS 953 \n",
      " Last 10 training episodes: mean/median reward -20.1/-20.0, min/max reward -21.0/-19.0\n",
      "\n",
      "Updates 31, num timesteps 32768, FPS 959 \n",
      " Last 10 training episodes: mean/median reward -20.1/-20.0, min/max reward -21.0/-19.0\n",
      "\n",
      "Updates 32, num timesteps 33792, FPS 965 \n",
      " Last 10 training episodes: mean/median reward -20.3/-20.5, min/max reward -21.0/-19.0\n",
      "\n",
      "Updates 33, num timesteps 34816, FPS 972 \n",
      " Last 10 training episodes: mean/median reward -20.3/-20.5, min/max reward -21.0/-19.0\n",
      "\n",
      "Updates 34, num timesteps 35840, FPS 976 \n",
      " Last 10 training episodes: mean/median reward -20.3/-20.5, min/max reward -21.0/-19.0\n",
      "\n",
      "Updates 35, num timesteps 36864, FPS 982 \n",
      " Last 10 training episodes: mean/median reward -20.3/-20.5, min/max reward -21.0/-19.0\n",
      "\n",
      "Updates 36, num timesteps 37888, FPS 986 \n",
      " Last 10 training episodes: mean/median reward -20.7/-21.0, min/max reward -21.0/-20.0\n",
      "\n",
      "Updates 37, num timesteps 38912, FPS 992 \n",
      " Last 10 training episodes: mean/median reward -20.6/-21.0, min/max reward -21.0/-20.0\n",
      "\n",
      "Updates 38, num timesteps 39936, FPS 997 \n",
      " Last 10 training episodes: mean/median reward -20.5/-20.5, min/max reward -21.0/-20.0\n",
      "\n",
      "Updates 39, num timesteps 40960, FPS 1001 \n",
      " Last 10 training episodes: mean/median reward -20.5/-20.5, min/max reward -21.0/-20.0\n",
      "\n",
      "Updates 40, num timesteps 41984, FPS 1005 \n",
      " Last 10 training episodes: mean/median reward -20.6/-21.0, min/max reward -21.0/-20.0\n",
      "\n",
      "Updates 41, num timesteps 43008, FPS 1009 \n",
      " Last 10 training episodes: mean/median reward -20.6/-21.0, min/max reward -21.0/-20.0\n",
      "\n",
      "Updates 42, num timesteps 44032, FPS 1014 \n",
      " Last 10 training episodes: mean/median reward -20.6/-21.0, min/max reward -21.0/-20.0\n",
      "\n",
      "Updates 43, num timesteps 45056, FPS 1017 \n",
      " Last 10 training episodes: mean/median reward -20.6/-21.0, min/max reward -21.0/-20.0\n",
      "\n",
      "Updates 44, num timesteps 46080, FPS 1020 \n",
      " Last 10 training episodes: mean/median reward -20.5/-20.5, min/max reward -21.0/-20.0\n",
      "\n",
      "Updates 45, num timesteps 47104, FPS 1022 \n",
      " Last 10 training episodes: mean/median reward -20.4/-20.0, min/max reward -21.0/-20.0\n",
      "\n",
      "Updates 46, num timesteps 48128, FPS 1026 \n",
      " Last 10 training episodes: mean/median reward -20.5/-20.5, min/max reward -21.0/-20.0\n",
      "\n",
      "Updates 47, num timesteps 49152, FPS 1029 \n",
      " Last 10 training episodes: mean/median reward -20.7/-21.0, min/max reward -21.0/-20.0\n",
      "\n",
      "Updates 48, num timesteps 50176, FPS 1033 \n",
      " Last 10 training episodes: mean/median reward -20.7/-21.0, min/max reward -21.0/-20.0\n",
      "\n",
      "Updates 49, num timesteps 51200, FPS 1038 \n",
      " Last 10 training episodes: mean/median reward -20.7/-21.0, min/max reward -21.0/-20.0\n",
      "\n",
      "Updates 50, num timesteps 52224, FPS 1040 \n",
      " Last 10 training episodes: mean/median reward -20.6/-21.0, min/max reward -21.0/-20.0\n",
      "\n",
      "Updates 51, num timesteps 53248, FPS 1042 \n",
      " Last 10 training episodes: mean/median reward -20.5/-20.5, min/max reward -21.0/-20.0\n",
      "\n",
      "Updates 52, num timesteps 54272, FPS 1045 \n",
      " Last 10 training episodes: mean/median reward -20.5/-20.5, min/max reward -21.0/-20.0\n",
      "\n",
      "Updates 53, num timesteps 55296, FPS 1046 \n",
      " Last 10 training episodes: mean/median reward -20.4/-20.5, min/max reward -21.0/-19.0\n",
      "\n",
      "Updates 54, num timesteps 56320, FPS 1049 \n",
      " Last 10 training episodes: mean/median reward -20.4/-20.5, min/max reward -21.0/-19.0\n",
      "\n",
      "Updates 55, num timesteps 57344, FPS 1052 \n",
      " Last 10 training episodes: mean/median reward -20.4/-20.5, min/max reward -21.0/-19.0\n",
      "\n",
      "Updates 56, num timesteps 58368, FPS 1055 \n",
      " Last 10 training episodes: mean/median reward -20.2/-20.0, min/max reward -21.0/-19.0\n",
      "\n",
      "Updates 57, num timesteps 59392, FPS 1057 \n",
      " Last 10 training episodes: mean/median reward -20.2/-20.0, min/max reward -21.0/-19.0\n",
      "\n",
      "Updates 58, num timesteps 60416, FPS 1059 \n",
      " Last 10 training episodes: mean/median reward -20.1/-20.0, min/max reward -21.0/-19.0\n",
      "\n",
      "Updates 59, num timesteps 61440, FPS 1061 \n",
      " Last 10 training episodes: mean/median reward -19.9/-20.0, min/max reward -21.0/-18.0\n",
      "\n",
      "Updates 60, num timesteps 62464, FPS 1063 \n",
      " Last 10 training episodes: mean/median reward -19.8/-20.0, min/max reward -21.0/-18.0\n",
      "\n",
      "Updates 61, num timesteps 63488, FPS 1065 \n",
      " Last 10 training episodes: mean/median reward -19.8/-20.0, min/max reward -21.0/-18.0\n",
      "\n",
      "Updates 62, num timesteps 64512, FPS 1068 \n",
      " Last 10 training episodes: mean/median reward -19.8/-20.0, min/max reward -21.0/-18.0\n",
      "\n",
      "Updates 63, num timesteps 65536, FPS 1068 \n",
      " Last 10 training episodes: mean/median reward -19.8/-20.0, min/max reward -21.0/-18.0\n",
      "\n",
      "Updates 64, num timesteps 66560, FPS 1070 \n",
      " Last 10 training episodes: mean/median reward -19.8/-20.0, min/max reward -21.0/-18.0\n",
      "\n"
     ]
    },
    {
     "name": "stdout",
     "output_type": "stream",
     "text": [
      "Updates 65, num timesteps 67584, FPS 1073 \n",
      " Last 10 training episodes: mean/median reward -20.0/-20.0, min/max reward -21.0/-18.0\n",
      "\n",
      "Updates 66, num timesteps 68608, FPS 1075 \n",
      " Last 10 training episodes: mean/median reward -20.0/-20.0, min/max reward -21.0/-18.0\n",
      "\n",
      "Updates 67, num timesteps 69632, FPS 1076 \n",
      " Last 10 training episodes: mean/median reward -20.2/-20.0, min/max reward -21.0/-19.0\n",
      "\n",
      "Updates 68, num timesteps 70656, FPS 1077 \n",
      " Last 10 training episodes: mean/median reward -20.2/-20.0, min/max reward -21.0/-19.0\n",
      "\n",
      "Updates 69, num timesteps 71680, FPS 1080 \n",
      " Last 10 training episodes: mean/median reward -20.2/-20.0, min/max reward -21.0/-19.0\n",
      "\n",
      "Updates 70, num timesteps 72704, FPS 1081 \n",
      " Last 10 training episodes: mean/median reward -20.4/-20.5, min/max reward -21.0/-19.0\n",
      "\n",
      "Updates 71, num timesteps 73728, FPS 1083 \n",
      " Last 10 training episodes: mean/median reward -20.6/-21.0, min/max reward -21.0/-20.0\n",
      "\n",
      "Updates 72, num timesteps 74752, FPS 1085 \n",
      " Last 10 training episodes: mean/median reward -20.7/-21.0, min/max reward -21.0/-20.0\n",
      "\n",
      "Updates 73, num timesteps 75776, FPS 1087 \n",
      " Last 10 training episodes: mean/median reward -20.5/-21.0, min/max reward -21.0/-19.0\n",
      "\n",
      "Updates 74, num timesteps 76800, FPS 1088 \n",
      " Last 10 training episodes: mean/median reward -20.4/-20.5, min/max reward -21.0/-19.0\n",
      "\n",
      "Updates 75, num timesteps 77824, FPS 1090 \n",
      " Last 10 training episodes: mean/median reward -20.4/-20.5, min/max reward -21.0/-19.0\n",
      "\n",
      "Updates 76, num timesteps 78848, FPS 1091 \n",
      " Last 10 training episodes: mean/median reward -20.4/-20.5, min/max reward -21.0/-19.0\n",
      "\n",
      "Updates 77, num timesteps 79872, FPS 1091 \n",
      " Last 10 training episodes: mean/median reward -20.5/-21.0, min/max reward -21.0/-19.0\n",
      "\n",
      "Updates 78, num timesteps 80896, FPS 1093 \n",
      " Last 10 training episodes: mean/median reward -20.5/-21.0, min/max reward -21.0/-19.0\n",
      "\n",
      "Updates 79, num timesteps 81920, FPS 1094 \n",
      " Last 10 training episodes: mean/median reward -20.5/-21.0, min/max reward -21.0/-19.0\n",
      "\n",
      "Updates 80, num timesteps 82944, FPS 1096 \n",
      " Last 10 training episodes: mean/median reward -20.4/-20.5, min/max reward -21.0/-19.0\n",
      "\n",
      "Updates 81, num timesteps 83968, FPS 1097 \n",
      " Last 10 training episodes: mean/median reward -20.4/-20.5, min/max reward -21.0/-19.0\n",
      "\n",
      "Updates 82, num timesteps 84992, FPS 1099 \n",
      " Last 10 training episodes: mean/median reward -20.3/-20.5, min/max reward -21.0/-18.0\n",
      "\n",
      "Updates 83, num timesteps 86016, FPS 1099 \n",
      " Last 10 training episodes: mean/median reward -20.3/-20.5, min/max reward -21.0/-18.0\n",
      "\n",
      "Updates 84, num timesteps 87040, FPS 1100 \n",
      " Last 10 training episodes: mean/median reward -20.4/-21.0, min/max reward -21.0/-18.0\n",
      "\n",
      "Updates 85, num timesteps 88064, FPS 1102 \n",
      " Last 10 training episodes: mean/median reward -20.4/-21.0, min/max reward -21.0/-18.0\n",
      "\n",
      "Updates 86, num timesteps 89088, FPS 1104 \n",
      " Last 10 training episodes: mean/median reward -20.4/-21.0, min/max reward -21.0/-18.0\n",
      "\n",
      "Updates 87, num timesteps 90112, FPS 1104 \n",
      " Last 10 training episodes: mean/median reward -20.3/-20.5, min/max reward -21.0/-18.0\n",
      "\n",
      "Updates 88, num timesteps 91136, FPS 1104 \n",
      " Last 10 training episodes: mean/median reward -20.4/-21.0, min/max reward -21.0/-18.0\n",
      "\n",
      "Updates 89, num timesteps 92160, FPS 1106 \n",
      " Last 10 training episodes: mean/median reward -20.3/-20.5, min/max reward -21.0/-18.0\n",
      "\n",
      "Updates 90, num timesteps 93184, FPS 1107 \n",
      " Last 10 training episodes: mean/median reward -20.3/-20.5, min/max reward -21.0/-18.0\n",
      "\n",
      "Updates 91, num timesteps 94208, FPS 1108 \n",
      " Last 10 training episodes: mean/median reward -20.3/-20.5, min/max reward -21.0/-18.0\n",
      "\n",
      "Updates 92, num timesteps 95232, FPS 1109 \n",
      " Last 10 training episodes: mean/median reward -20.3/-20.5, min/max reward -21.0/-19.0\n",
      "\n",
      "Updates 93, num timesteps 96256, FPS 1111 \n",
      " Last 10 training episodes: mean/median reward -20.3/-20.5, min/max reward -21.0/-19.0\n",
      "\n",
      "Updates 94, num timesteps 97280, FPS 1112 \n",
      " Last 10 training episodes: mean/median reward -20.3/-20.5, min/max reward -21.0/-19.0\n",
      "\n",
      "Updates 95, num timesteps 98304, FPS 1113 \n",
      " Last 10 training episodes: mean/median reward -20.3/-20.5, min/max reward -21.0/-19.0\n",
      "\n",
      "Updates 96, num timesteps 99328, FPS 1114 \n",
      " Last 10 training episodes: mean/median reward -20.0/-20.5, min/max reward -21.0/-17.0\n",
      "\n",
      "Updates 97, num timesteps 100352, FPS 1114 \n",
      " Last 10 training episodes: mean/median reward -19.9/-20.5, min/max reward -21.0/-17.0\n",
      "\n",
      "Updates 98, num timesteps 101376, FPS 1115 \n",
      " Last 10 training episodes: mean/median reward -20.0/-21.0, min/max reward -21.0/-17.0\n",
      "\n",
      "Updates 99, num timesteps 102400, FPS 1115 \n",
      " Last 10 training episodes: mean/median reward -20.2/-21.0, min/max reward -21.0/-17.0\n",
      "\n",
      "Updates 100, num timesteps 103424, FPS 1116 \n",
      " Last 10 training episodes: mean/median reward -20.2/-21.0, min/max reward -21.0/-17.0\n",
      "\n",
      "Updates 101, num timesteps 104448, FPS 1117 \n",
      " Last 10 training episodes: mean/median reward -20.2/-21.0, min/max reward -21.0/-17.0\n",
      "\n",
      "Updates 102, num timesteps 105472, FPS 1118 \n",
      " Last 10 training episodes: mean/median reward -20.3/-21.0, min/max reward -21.0/-17.0\n",
      "\n",
      "Updates 103, num timesteps 106496, FPS 1118 \n",
      " Last 10 training episodes: mean/median reward -20.1/-20.5, min/max reward -21.0/-17.0\n",
      "\n",
      "Updates 104, num timesteps 107520, FPS 1119 \n",
      " Last 10 training episodes: mean/median reward -20.4/-20.5, min/max reward -21.0/-19.0\n",
      "\n",
      "Updates 105, num timesteps 108544, FPS 1119 \n",
      " Last 10 training episodes: mean/median reward -20.3/-20.0, min/max reward -21.0/-19.0\n",
      "\n",
      "Updates 106, num timesteps 109568, FPS 1119 \n",
      " Last 10 training episodes: mean/median reward -20.5/-20.5, min/max reward -21.0/-20.0\n",
      "\n",
      "Updates 107, num timesteps 110592, FPS 1120 \n",
      " Last 10 training episodes: mean/median reward -20.3/-20.0, min/max reward -21.0/-19.0\n",
      "\n",
      "Updates 108, num timesteps 111616, FPS 1122 \n",
      " Last 10 training episodes: mean/median reward -20.3/-20.0, min/max reward -21.0/-19.0\n",
      "\n",
      "Updates 109, num timesteps 112640, FPS 1122 \n",
      " Last 10 training episodes: mean/median reward -20.3/-20.0, min/max reward -21.0/-19.0\n",
      "\n",
      "Updates 110, num timesteps 113664, FPS 1122 \n",
      " Last 10 training episodes: mean/median reward -20.5/-21.0, min/max reward -21.0/-19.0\n",
      "\n",
      "Updates 111, num timesteps 114688, FPS 1123 \n",
      " Last 10 training episodes: mean/median reward -20.5/-21.0, min/max reward -21.0/-19.0\n",
      "\n",
      "Updates 112, num timesteps 115712, FPS 1124 \n",
      " Last 10 training episodes: mean/median reward -20.6/-21.0, min/max reward -21.0/-19.0\n",
      "\n",
      "Updates 113, num timesteps 116736, FPS 1125 \n",
      " Last 10 training episodes: mean/median reward -20.5/-21.0, min/max reward -21.0/-19.0\n",
      "\n",
      "Updates 114, num timesteps 117760, FPS 1125 \n",
      " Last 10 training episodes: mean/median reward -20.3/-21.0, min/max reward -21.0/-18.0\n",
      "\n",
      "Updates 115, num timesteps 118784, FPS 1125 \n",
      " Last 10 training episodes: mean/median reward -20.2/-21.0, min/max reward -21.0/-18.0\n",
      "\n",
      "Updates 116, num timesteps 119808, FPS 1126 \n",
      " Last 10 training episodes: mean/median reward -20.3/-21.0, min/max reward -21.0/-18.0\n",
      "\n",
      "Updates 117, num timesteps 120832, FPS 1127 \n",
      " Last 10 training episodes: mean/median reward -20.3/-21.0, min/max reward -21.0/-18.0\n",
      "\n",
      "Updates 118, num timesteps 121856, FPS 1128 \n",
      " Last 10 training episodes: mean/median reward -20.1/-20.5, min/max reward -21.0/-18.0\n",
      "\n",
      "Updates 119, num timesteps 122880, FPS 1129 \n",
      " Last 10 training episodes: mean/median reward -20.1/-20.5, min/max reward -21.0/-18.0\n",
      "\n",
      "Updates 120, num timesteps 123904, FPS 1130 \n",
      " Last 10 training episodes: mean/median reward -20.0/-20.0, min/max reward -21.0/-18.0\n",
      "\n",
      "Updates 121, num timesteps 124928, FPS 1130 \n",
      " Last 10 training episodes: mean/median reward -19.9/-20.0, min/max reward -21.0/-18.0\n",
      "\n",
      "Updates 122, num timesteps 125952, FPS 1130 \n",
      " Last 10 training episodes: mean/median reward -20.4/-20.5, min/max reward -21.0/-19.0\n",
      "\n",
      "Updates 123, num timesteps 126976, FPS 1131 \n",
      " Last 10 training episodes: mean/median reward -20.4/-20.5, min/max reward -21.0/-19.0\n",
      "\n",
      "Updates 124, num timesteps 128000, FPS 1132 \n",
      " Last 10 training episodes: mean/median reward -20.5/-21.0, min/max reward -21.0/-19.0\n",
      "\n",
      "Updates 125, num timesteps 129024, FPS 1133 \n",
      " Last 10 training episodes: mean/median reward -20.6/-21.0, min/max reward -21.0/-19.0\n",
      "\n",
      "Updates 126, num timesteps 130048, FPS 1133 \n",
      " Last 10 training episodes: mean/median reward -20.6/-21.0, min/max reward -21.0/-19.0\n",
      "\n",
      "Updates 127, num timesteps 131072, FPS 1134 \n",
      " Last 10 training episodes: mean/median reward -20.6/-21.0, min/max reward -21.0/-19.0\n",
      "\n"
     ]
    },
    {
     "name": "stdout",
     "output_type": "stream",
     "text": [
      "Updates 128, num timesteps 132096, FPS 1135 \n",
      " Last 10 training episodes: mean/median reward -20.7/-21.0, min/max reward -21.0/-20.0\n",
      "\n",
      "Updates 129, num timesteps 133120, FPS 1135 \n",
      " Last 10 training episodes: mean/median reward -20.6/-21.0, min/max reward -21.0/-19.0\n",
      "\n",
      "Updates 130, num timesteps 134144, FPS 1135 \n",
      " Last 10 training episodes: mean/median reward -20.5/-21.0, min/max reward -21.0/-19.0\n",
      "\n",
      "Updates 131, num timesteps 135168, FPS 1136 \n",
      " Last 10 training episodes: mean/median reward -20.5/-21.0, min/max reward -21.0/-19.0\n",
      "\n",
      "Updates 132, num timesteps 136192, FPS 1137 \n",
      " Last 10 training episodes: mean/median reward -20.3/-21.0, min/max reward -21.0/-19.0\n",
      "\n",
      "Updates 133, num timesteps 137216, FPS 1138 \n",
      " Last 10 training episodes: mean/median reward -20.2/-20.5, min/max reward -21.0/-19.0\n",
      "\n",
      "Updates 134, num timesteps 138240, FPS 1138 \n",
      " Last 10 training episodes: mean/median reward -20.1/-20.0, min/max reward -21.0/-19.0\n",
      "\n",
      "Updates 135, num timesteps 139264, FPS 1139 \n",
      " Last 10 training episodes: mean/median reward -20.0/-20.0, min/max reward -21.0/-19.0\n",
      "\n",
      "Updates 136, num timesteps 140288, FPS 1139 \n",
      " Last 10 training episodes: mean/median reward -20.1/-20.0, min/max reward -21.0/-19.0\n",
      "\n",
      "Updates 137, num timesteps 141312, FPS 1140 \n",
      " Last 10 training episodes: mean/median reward -20.3/-20.5, min/max reward -21.0/-19.0\n",
      "\n",
      "Updates 138, num timesteps 142336, FPS 1141 \n",
      " Last 10 training episodes: mean/median reward -20.1/-20.0, min/max reward -21.0/-19.0\n",
      "\n",
      "Updates 139, num timesteps 143360, FPS 1142 \n",
      " Last 10 training episodes: mean/median reward -20.1/-20.0, min/max reward -21.0/-19.0\n",
      "\n",
      "Updates 140, num timesteps 144384, FPS 1142 \n",
      " Last 10 training episodes: mean/median reward -20.2/-20.0, min/max reward -21.0/-19.0\n",
      "\n",
      "Updates 141, num timesteps 145408, FPS 1141 \n",
      " Last 10 training episodes: mean/median reward -20.4/-20.5, min/max reward -21.0/-19.0\n",
      "\n",
      "Updates 142, num timesteps 146432, FPS 1141 \n",
      " Last 10 training episodes: mean/median reward -20.5/-21.0, min/max reward -21.0/-19.0\n",
      "\n",
      "Updates 143, num timesteps 147456, FPS 1142 \n",
      " Last 10 training episodes: mean/median reward -20.5/-21.0, min/max reward -21.0/-19.0\n",
      "\n",
      "Updates 144, num timesteps 148480, FPS 1142 \n",
      " Last 10 training episodes: mean/median reward -20.6/-21.0, min/max reward -21.0/-19.0\n",
      "\n",
      "Updates 145, num timesteps 149504, FPS 1143 \n",
      " Last 10 training episodes: mean/median reward -20.6/-21.0, min/max reward -21.0/-19.0\n",
      "\n",
      "Updates 146, num timesteps 150528, FPS 1143 \n",
      " Last 10 training episodes: mean/median reward -20.6/-21.0, min/max reward -21.0/-19.0\n",
      "\n",
      "Updates 147, num timesteps 151552, FPS 1144 \n",
      " Last 10 training episodes: mean/median reward -20.6/-21.0, min/max reward -21.0/-19.0\n",
      "\n",
      "Updates 148, num timesteps 152576, FPS 1144 \n",
      " Last 10 training episodes: mean/median reward -20.8/-21.0, min/max reward -21.0/-20.0\n",
      "\n",
      "Updates 149, num timesteps 153600, FPS 1144 \n",
      " Last 10 training episodes: mean/median reward -20.8/-21.0, min/max reward -21.0/-20.0\n",
      "\n",
      "Updates 150, num timesteps 154624, FPS 1145 \n",
      " Last 10 training episodes: mean/median reward -20.7/-21.0, min/max reward -21.0/-20.0\n",
      "\n",
      "Updates 151, num timesteps 155648, FPS 1144 \n",
      " Last 10 training episodes: mean/median reward -20.7/-21.0, min/max reward -21.0/-20.0\n",
      "\n",
      "Updates 152, num timesteps 156672, FPS 1145 \n",
      " Last 10 training episodes: mean/median reward -20.7/-21.0, min/max reward -21.0/-20.0\n",
      "\n",
      "Updates 153, num timesteps 157696, FPS 1146 \n",
      " Last 10 training episodes: mean/median reward -20.7/-21.0, min/max reward -21.0/-20.0\n",
      "\n",
      "Updates 154, num timesteps 158720, FPS 1146 \n",
      " Last 10 training episodes: mean/median reward -20.6/-21.0, min/max reward -21.0/-20.0\n",
      "\n",
      "Updates 155, num timesteps 159744, FPS 1146 \n",
      " Last 10 training episodes: mean/median reward -20.3/-20.0, min/max reward -21.0/-19.0\n",
      "\n",
      "Updates 156, num timesteps 160768, FPS 1146 \n",
      " Last 10 training episodes: mean/median reward -20.3/-20.0, min/max reward -21.0/-19.0\n",
      "\n",
      "Updates 157, num timesteps 161792, FPS 1147 \n",
      " Last 10 training episodes: mean/median reward -20.2/-20.0, min/max reward -21.0/-19.0\n",
      "\n",
      "Updates 158, num timesteps 162816, FPS 1147 \n",
      " Last 10 training episodes: mean/median reward -20.3/-20.0, min/max reward -21.0/-19.0\n",
      "\n",
      "Updates 159, num timesteps 163840, FPS 1148 \n",
      " Last 10 training episodes: mean/median reward -20.3/-20.0, min/max reward -21.0/-19.0\n",
      "\n",
      "Updates 160, num timesteps 164864, FPS 1149 \n",
      " Last 10 training episodes: mean/median reward -20.2/-20.0, min/max reward -21.0/-19.0\n",
      "\n",
      "Updates 161, num timesteps 165888, FPS 1149 \n",
      " Last 10 training episodes: mean/median reward -20.2/-20.0, min/max reward -21.0/-19.0\n",
      "\n",
      "Updates 162, num timesteps 166912, FPS 1150 \n",
      " Last 10 training episodes: mean/median reward -20.1/-20.0, min/max reward -21.0/-19.0\n",
      "\n",
      "Updates 163, num timesteps 167936, FPS 1149 \n",
      " Last 10 training episodes: mean/median reward -20.3/-20.0, min/max reward -21.0/-19.0\n",
      "\n",
      "Updates 164, num timesteps 168960, FPS 1149 \n",
      " Last 10 training episodes: mean/median reward -20.3/-20.0, min/max reward -21.0/-19.0\n",
      "\n",
      "Updates 165, num timesteps 169984, FPS 1150 \n",
      " Last 10 training episodes: mean/median reward -20.3/-20.0, min/max reward -21.0/-19.0\n",
      "\n",
      "Updates 166, num timesteps 171008, FPS 1151 \n",
      " Last 10 training episodes: mean/median reward -20.3/-20.0, min/max reward -21.0/-19.0\n",
      "\n",
      "Updates 167, num timesteps 172032, FPS 1152 \n",
      " Last 10 training episodes: mean/median reward -20.3/-20.0, min/max reward -21.0/-19.0\n",
      "\n",
      "Updates 168, num timesteps 173056, FPS 1151 \n",
      " Last 10 training episodes: mean/median reward -20.2/-20.0, min/max reward -21.0/-19.0\n",
      "\n",
      "Updates 169, num timesteps 174080, FPS 1151 \n",
      " Last 10 training episodes: mean/median reward -20.4/-20.5, min/max reward -21.0/-19.0\n",
      "\n",
      "Updates 170, num timesteps 175104, FPS 1151 \n",
      " Last 10 training episodes: mean/median reward -20.3/-20.0, min/max reward -21.0/-19.0\n",
      "\n",
      "Updates 171, num timesteps 176128, FPS 1152 \n",
      " Last 10 training episodes: mean/median reward -20.3/-20.0, min/max reward -21.0/-19.0\n",
      "\n",
      "Updates 172, num timesteps 177152, FPS 1153 \n",
      " Last 10 training episodes: mean/median reward -20.3/-20.0, min/max reward -21.0/-19.0\n",
      "\n",
      "Updates 173, num timesteps 178176, FPS 1154 \n",
      " Last 10 training episodes: mean/median reward -20.3/-20.0, min/max reward -21.0/-19.0\n",
      "\n",
      "Updates 174, num timesteps 179200, FPS 1154 \n",
      " Last 10 training episodes: mean/median reward -20.3/-20.0, min/max reward -21.0/-19.0\n",
      "\n",
      "Updates 175, num timesteps 180224, FPS 1155 \n",
      " Last 10 training episodes: mean/median reward -20.5/-20.5, min/max reward -21.0/-20.0\n",
      "\n",
      "Updates 176, num timesteps 181248, FPS 1155 \n",
      " Last 10 training episodes: mean/median reward -20.7/-21.0, min/max reward -21.0/-20.0\n",
      "\n",
      "Updates 177, num timesteps 182272, FPS 1154 \n",
      " Last 10 training episodes: mean/median reward -20.6/-21.0, min/max reward -21.0/-19.0\n",
      "\n",
      "Updates 178, num timesteps 183296, FPS 1155 \n",
      " Last 10 training episodes: mean/median reward -20.3/-20.5, min/max reward -21.0/-19.0\n",
      "\n",
      "Updates 179, num timesteps 184320, FPS 1155 \n",
      " Last 10 training episodes: mean/median reward -20.3/-20.5, min/max reward -21.0/-19.0\n",
      "\n",
      "Updates 180, num timesteps 185344, FPS 1156 \n",
      " Last 10 training episodes: mean/median reward -20.3/-20.5, min/max reward -21.0/-19.0\n",
      "\n",
      "Updates 181, num timesteps 186368, FPS 1156 \n",
      " Last 10 training episodes: mean/median reward -20.4/-21.0, min/max reward -21.0/-19.0\n",
      "\n",
      "Updates 182, num timesteps 187392, FPS 1156 \n",
      " Last 10 training episodes: mean/median reward -20.4/-21.0, min/max reward -21.0/-19.0\n",
      "\n",
      "Updates 183, num timesteps 188416, FPS 1156 \n",
      " Last 10 training episodes: mean/median reward -20.4/-21.0, min/max reward -21.0/-19.0\n",
      "\n",
      "Updates 184, num timesteps 189440, FPS 1156 \n",
      " Last 10 training episodes: mean/median reward -20.2/-20.0, min/max reward -21.0/-19.0\n",
      "\n",
      "Updates 185, num timesteps 190464, FPS 1156 \n",
      " Last 10 training episodes: mean/median reward -20.3/-20.0, min/max reward -21.0/-19.0\n",
      "\n",
      "Updates 186, num timesteps 191488, FPS 1157 \n",
      " Last 10 training episodes: mean/median reward -20.3/-20.0, min/max reward -21.0/-19.0\n",
      "\n",
      "Updates 187, num timesteps 192512, FPS 1157 \n",
      " Last 10 training episodes: mean/median reward -20.4/-20.5, min/max reward -21.0/-19.0\n",
      "\n",
      "Updates 188, num timesteps 193536, FPS 1158 \n",
      " Last 10 training episodes: mean/median reward -20.4/-20.5, min/max reward -21.0/-19.0\n",
      "\n",
      "Updates 189, num timesteps 194560, FPS 1159 \n",
      " Last 10 training episodes: mean/median reward -20.4/-20.5, min/max reward -21.0/-19.0\n",
      "\n"
     ]
    },
    {
     "name": "stdout",
     "output_type": "stream",
     "text": [
      "Updates 190, num timesteps 195584, FPS 1159 \n",
      " Last 10 training episodes: mean/median reward -20.4/-20.0, min/max reward -21.0/-20.0\n",
      "\n",
      "Updates 191, num timesteps 196608, FPS 1159 \n",
      " Last 10 training episodes: mean/median reward -20.4/-20.0, min/max reward -21.0/-20.0\n",
      "\n",
      "Updates 192, num timesteps 197632, FPS 1159 \n",
      " Last 10 training episodes: mean/median reward -20.4/-20.0, min/max reward -21.0/-20.0\n",
      "\n",
      "Updates 193, num timesteps 198656, FPS 1159 \n",
      " Last 10 training episodes: mean/median reward -20.3/-20.0, min/max reward -21.0/-19.0\n",
      "\n",
      "Updates 194, num timesteps 199680, FPS 1160 \n",
      " Last 10 training episodes: mean/median reward -20.3/-20.0, min/max reward -21.0/-19.0\n",
      "\n",
      "Updates 195, num timesteps 200704, FPS 1160 \n",
      " Last 10 training episodes: mean/median reward -20.3/-20.0, min/max reward -21.0/-19.0\n",
      "\n",
      "Updates 196, num timesteps 201728, FPS 1160 \n",
      " Last 10 training episodes: mean/median reward -20.1/-20.0, min/max reward -21.0/-19.0\n",
      "\n",
      "Updates 197, num timesteps 202752, FPS 1159 \n",
      " Last 10 training episodes: mean/median reward -20.1/-20.0, min/max reward -21.0/-19.0\n",
      "\n",
      "Updates 198, num timesteps 203776, FPS 1159 \n",
      " Last 10 training episodes: mean/median reward -20.2/-20.0, min/max reward -21.0/-19.0\n",
      "\n",
      "Updates 199, num timesteps 204800, FPS 1158 \n",
      " Last 10 training episodes: mean/median reward -20.2/-20.0, min/max reward -21.0/-19.0\n",
      "\n",
      "Updates 200, num timesteps 205824, FPS 1158 \n",
      " Last 10 training episodes: mean/median reward -20.0/-20.0, min/max reward -21.0/-18.0\n",
      "\n",
      "Updates 201, num timesteps 206848, FPS 1158 \n",
      " Last 10 training episodes: mean/median reward -20.0/-20.0, min/max reward -21.0/-18.0\n",
      "\n",
      "Updates 202, num timesteps 207872, FPS 1159 \n",
      " Last 10 training episodes: mean/median reward -20.0/-20.0, min/max reward -21.0/-18.0\n",
      "\n",
      "Updates 203, num timesteps 208896, FPS 1159 \n",
      " Last 10 training episodes: mean/median reward -20.1/-20.5, min/max reward -21.0/-18.0\n",
      "\n",
      "Updates 204, num timesteps 209920, FPS 1159 \n",
      " Last 10 training episodes: mean/median reward -20.4/-21.0, min/max reward -21.0/-18.0\n",
      "\n",
      "Updates 205, num timesteps 210944, FPS 1159 \n",
      " Last 10 training episodes: mean/median reward -20.4/-21.0, min/max reward -21.0/-18.0\n",
      "\n",
      "Updates 206, num timesteps 211968, FPS 1159 \n",
      " Last 10 training episodes: mean/median reward -20.3/-21.0, min/max reward -21.0/-18.0\n",
      "\n",
      "Updates 207, num timesteps 212992, FPS 1159 \n",
      " Last 10 training episodes: mean/median reward -20.3/-21.0, min/max reward -21.0/-18.0\n",
      "\n",
      "Updates 208, num timesteps 214016, FPS 1159 \n",
      " Last 10 training episodes: mean/median reward -20.4/-21.0, min/max reward -21.0/-18.0\n",
      "\n",
      "Updates 209, num timesteps 215040, FPS 1159 \n",
      " Last 10 training episodes: mean/median reward -20.3/-21.0, min/max reward -21.0/-18.0\n",
      "\n",
      "Updates 210, num timesteps 216064, FPS 1158 \n",
      " Last 10 training episodes: mean/median reward -20.6/-21.0, min/max reward -21.0/-19.0\n",
      "\n",
      "Updates 211, num timesteps 217088, FPS 1158 \n",
      " Last 10 training episodes: mean/median reward -20.6/-21.0, min/max reward -21.0/-19.0\n",
      "\n",
      "Updates 212, num timesteps 218112, FPS 1158 \n",
      " Last 10 training episodes: mean/median reward -20.6/-21.0, min/max reward -21.0/-19.0\n",
      "\n",
      "Updates 213, num timesteps 219136, FPS 1158 \n",
      " Last 10 training episodes: mean/median reward -20.4/-21.0, min/max reward -21.0/-19.0\n",
      "\n",
      "Updates 214, num timesteps 220160, FPS 1159 \n",
      " Last 10 training episodes: mean/median reward -20.4/-21.0, min/max reward -21.0/-19.0\n",
      "\n",
      "Updates 215, num timesteps 221184, FPS 1159 \n",
      " Last 10 training episodes: mean/median reward -20.4/-21.0, min/max reward -21.0/-19.0\n",
      "\n",
      "Updates 216, num timesteps 222208, FPS 1159 \n",
      " Last 10 training episodes: mean/median reward -20.5/-21.0, min/max reward -21.0/-19.0\n",
      "\n",
      "Updates 217, num timesteps 223232, FPS 1159 \n",
      " Last 10 training episodes: mean/median reward -20.5/-21.0, min/max reward -21.0/-19.0\n",
      "\n",
      "Updates 218, num timesteps 224256, FPS 1159 \n",
      " Last 10 training episodes: mean/median reward -20.2/-20.5, min/max reward -21.0/-19.0\n",
      "\n",
      "Updates 219, num timesteps 225280, FPS 1159 \n",
      " Last 10 training episodes: mean/median reward -20.2/-20.5, min/max reward -21.0/-19.0\n",
      "\n",
      "Updates 220, num timesteps 226304, FPS 1159 \n",
      " Last 10 training episodes: mean/median reward -20.2/-20.5, min/max reward -21.0/-19.0\n",
      "\n",
      "Updates 221, num timesteps 227328, FPS 1158 \n",
      " Last 10 training episodes: mean/median reward -20.1/-20.5, min/max reward -21.0/-19.0\n",
      "\n",
      "Updates 222, num timesteps 228352, FPS 1158 \n",
      " Last 10 training episodes: mean/median reward -20.1/-20.5, min/max reward -21.0/-19.0\n",
      "\n",
      "Updates 223, num timesteps 229376, FPS 1159 \n",
      " Last 10 training episodes: mean/median reward -20.1/-20.5, min/max reward -21.0/-19.0\n",
      "\n",
      "Updates 224, num timesteps 230400, FPS 1159 \n",
      " Last 10 training episodes: mean/median reward -20.3/-21.0, min/max reward -21.0/-19.0\n",
      "\n",
      "Updates 225, num timesteps 231424, FPS 1159 \n",
      " Last 10 training episodes: mean/median reward -20.3/-21.0, min/max reward -21.0/-19.0\n",
      "\n",
      "Updates 226, num timesteps 232448, FPS 1158 \n",
      " Last 10 training episodes: mean/median reward -20.5/-21.0, min/max reward -21.0/-19.0\n",
      "\n",
      "Updates 227, num timesteps 233472, FPS 1158 \n",
      " Last 10 training episodes: mean/median reward -20.5/-21.0, min/max reward -21.0/-19.0\n",
      "\n",
      "Updates 228, num timesteps 234496, FPS 1159 \n",
      " Last 10 training episodes: mean/median reward -20.3/-20.0, min/max reward -21.0/-19.0\n",
      "\n",
      "Updates 229, num timesteps 235520, FPS 1159 \n",
      " Last 10 training episodes: mean/median reward -20.1/-20.0, min/max reward -21.0/-19.0\n",
      "\n",
      "Updates 230, num timesteps 236544, FPS 1159 \n",
      " Last 10 training episodes: mean/median reward -20.1/-20.0, min/max reward -21.0/-19.0\n",
      "\n",
      "Updates 231, num timesteps 237568, FPS 1159 \n",
      " Last 10 training episodes: mean/median reward -20.1/-20.0, min/max reward -21.0/-19.0\n",
      "\n",
      "Updates 232, num timesteps 238592, FPS 1160 \n",
      " Last 10 training episodes: mean/median reward -20.1/-20.0, min/max reward -21.0/-19.0\n",
      "\n",
      "Updates 233, num timesteps 239616, FPS 1160 \n",
      " Last 10 training episodes: mean/median reward -20.1/-20.0, min/max reward -21.0/-19.0\n",
      "\n",
      "Updates 234, num timesteps 240640, FPS 1160 \n",
      " Last 10 training episodes: mean/median reward -20.0/-20.0, min/max reward -21.0/-19.0\n",
      "\n",
      "Updates 235, num timesteps 241664, FPS 1159 \n",
      " Last 10 training episodes: mean/median reward -20.1/-20.0, min/max reward -21.0/-19.0\n",
      "\n",
      "Updates 236, num timesteps 242688, FPS 1159 \n",
      " Last 10 training episodes: mean/median reward -20.2/-20.5, min/max reward -21.0/-19.0\n",
      "\n",
      "Updates 237, num timesteps 243712, FPS 1160 \n",
      " Last 10 training episodes: mean/median reward -20.2/-20.5, min/max reward -21.0/-19.0\n",
      "\n",
      "Updates 238, num timesteps 244736, FPS 1160 \n",
      " Last 10 training episodes: mean/median reward -20.2/-20.5, min/max reward -21.0/-19.0\n",
      "\n",
      "Updates 239, num timesteps 245760, FPS 1160 \n",
      " Last 10 training episodes: mean/median reward -20.4/-21.0, min/max reward -21.0/-19.0\n",
      "\n",
      "Updates 240, num timesteps 246784, FPS 1161 \n",
      " Last 10 training episodes: mean/median reward -20.3/-20.5, min/max reward -21.0/-19.0\n",
      "\n",
      "Updates 241, num timesteps 247808, FPS 1161 \n",
      " Last 10 training episodes: mean/median reward -20.5/-21.0, min/max reward -21.0/-19.0\n",
      "\n",
      "Updates 242, num timesteps 248832, FPS 1161 \n",
      " Last 10 training episodes: mean/median reward -20.4/-20.5, min/max reward -21.0/-19.0\n",
      "\n",
      "Updates 243, num timesteps 249856, FPS 1161 \n",
      " Last 10 training episodes: mean/median reward -20.4/-20.0, min/max reward -21.0/-20.0\n",
      "\n",
      "Updates 244, num timesteps 250880, FPS 1161 \n",
      " Last 10 training episodes: mean/median reward -20.5/-20.5, min/max reward -21.0/-20.0\n",
      "\n",
      "Updates 245, num timesteps 251904, FPS 1161 \n",
      " Last 10 training episodes: mean/median reward -20.5/-20.5, min/max reward -21.0/-20.0\n",
      "\n",
      "^C\n",
      "SubprocVecEnv worker: got KeyboardInterrupt\n",
      "SubprocVecEnv worker: got KeyboardInterrupt\n",
      "SubprocVecEnv worker: got KeyboardInterrupt\n",
      "SubprocVecEnv worker: got KeyboardInterrupt\n",
      "SubprocVecEnv worker: got KeyboardInterrupt\n",
      "SubprocVecEnv worker: got KeyboardInterrupt\n",
      "SubprocVecEnv worker: got KeyboardInterrupt\n",
      "SubprocVecEnv worker: got KeyboardInterrupt\n",
      "Traceback (most recent call last):\n",
      "  File \"main.py\", line 205, in <module>\n",
      "    main()\n",
      "  File \"main.py\", line 103, in main\n",
      "    obs, reward, done, infos = envs.step(action)\n",
      "  File \"/workspace/baselines/baselines/common/vec_env/__init__.py\", line 99, in step\n",
      "    self.step_async(actions)\n",
      "  File \"/workspace/baselines/baselines/common/vec_env/__init__.py\", line 146, in step_async\n",
      "    self.venv.step_async(actions)\n",
      "KeyboardInterrupt\n"
     ]
    }
   ],
   "source": [
    "!python main.py --env-name \"PongNoFrameskip-v4\" --algo ppo --use-gae --lr 2.5e-4 --clip-param 0.1 --value-loss-coef 1 --num-processes 8 --num-steps 128 --num-mini-batch 4 --vis-interval 1 --log-interval 1"
   ]
  },
  {
   "cell_type": "code",
   "execution_count": null,
   "metadata": {},
   "outputs": [],
   "source": []
  },
  {
   "cell_type": "code",
   "execution_count": null,
   "metadata": {},
   "outputs": [],
   "source": []
  },
  {
   "cell_type": "code",
   "execution_count": null,
   "metadata": {},
   "outputs": [],
   "source": []
  },
  {
   "cell_type": "code",
   "execution_count": null,
   "metadata": {},
   "outputs": [],
   "source": [
    "!pwd"
   ]
  },
  {
   "cell_type": "code",
   "execution_count": null,
   "metadata": {},
   "outputs": [],
   "source": [
    "!cd pytorch-a2c-ppo-acktr && python main.py --env-name \"PongNoFrameskip-v4\" --algo ppo --use-gae --lr 2.5e-4 --clip-param 0.1 --value-loss-coef 1 --num-processes 8 --num-steps 128 --num-mini-batch 4 --vis-interval 1 --log-interval 1"
   ]
  },
  {
   "cell_type": "code",
   "execution_count": null,
   "metadata": {},
   "outputs": [],
   "source": [
    "import torch\n",
    "#?torch.zeros(10).copy_()\n",
    "?torch.Tensor.copy_"
   ]
  },
  {
   "cell_type": "code",
   "execution_count": null,
   "metadata": {},
   "outputs": [],
   "source": [
    "8*306*16*64*4"
   ]
  },
  {
   "cell_type": "code",
   "execution_count": null,
   "metadata": {},
   "outputs": [],
   "source": [
    "!cd pytorch-a2c-ppo-acktr && python main.py --env-name \"KungFuMasterNoFrameskip-v0\" --algo ppo --use-gae --lr 2.5e-4 --clip-param 0.1 --value-loss-coef 1 --num-processes 16 --num-steps 64 --num-mini-batch 4 --vis-interval 1 --log-interval 1 --log-dir ./logs"
   ]
  },
  {
   "cell_type": "code",
   "execution_count": null,
   "metadata": {},
   "outputs": [],
   "source": [
    "!git clone https://github.com/ikostrikov/pytorch-a2c-ppo-acktr"
   ]
  },
  {
   "cell_type": "code",
   "execution_count": null,
   "metadata": {},
   "outputs": [],
   "source": [
    "import copy\n",
    "?copy_()"
   ]
  },
  {
   "cell_type": "code",
   "execution_count": null,
   "metadata": {},
   "outputs": [],
   "source": [
    "!cd pytorch-a2c-ppo-acktr && ls"
   ]
  },
  {
   "cell_type": "code",
   "execution_count": null,
   "metadata": {},
   "outputs": [],
   "source": [
    "!ls"
   ]
  },
  {
   "cell_type": "code",
   "execution_count": null,
   "metadata": {},
   "outputs": [],
   "source": [
    "!cd /workspace/pytorch-a2c-ppo-acktr/logs/kungFuMaster16WorkersPPO_10E6Frames/ && ls"
   ]
  },
  {
   "cell_type": "code",
   "execution_count": null,
   "metadata": {},
   "outputs": [],
   "source": [
    "filenameStr = '/workspace/pytorch-a2c-ppo-acktr/logs/kungFuMaster16WorkersPPO_10E6Frames/0.monitor.csv'"
   ]
  },
  {
   "cell_type": "code",
   "execution_count": null,
   "metadata": {},
   "outputs": [],
   "source": [
    "import csv\n",
    "with open(filenameStr) as csv_file:\n",
    "    csv_reader = csv.reader(csv_file, delimiter=',')\n",
    "    line_count = 0\n",
    "    for row in csv_reader:\n",
    "        print('line_count: ' + str(line_count) + ' ' + str(row))\n",
    "        line_count += 1\n",
    "        if line_count > 50: \n",
    "            break"
   ]
  },
  {
   "cell_type": "markdown",
   "metadata": {},
   "source": [
    "# End of file"
   ]
  },
  {
   "cell_type": "code",
   "execution_count": 36,
   "metadata": {},
   "outputs": [],
   "source": [
    "filenameStr = '/workspace/pytorch-a2c-ppo-acktr/logs/kungFuMaster16WorkersPPO_10E6Frames/0.monitor.csv'"
   ]
  },
  {
   "cell_type": "code",
   "execution_count": 37,
   "metadata": {},
   "outputs": [
    {
     "name": "stdout",
     "output_type": "stream",
     "text": [
      "['4000.0', '1338', '5236.940077']\n",
      "['11400.0', '2238', '5225.778916']\n",
      "['8100.0', '1711', '5207.680066']\n",
      "['12900.0', '2057', '5193.881849']\n",
      "['9800.0', '1984', '5177.375161']\n",
      "['15900.0', '2514', '5161.372077']\n",
      "['14800.0', '2365', '5140.334826']\n",
      "['15300.0', '2292', '5119.762178']\n",
      "['19500.0', '2749', '5101.177001']\n",
      "['18000.0', '2493', '5079.196374']\n",
      "['14800.0', '2022', '5058.957649']\n",
      "['13400.0', '2005', '5042.7717']\n",
      "['12700.0', '2061', '5026.46484']\n",
      "['10900.0', '2169', '5009.549408']\n",
      "['14600.0', '2065', '4991.695343']\n",
      "['16300.0', '2415', '4974.733234']\n",
      "['20200.0', '2458', '4952.974336']\n",
      "['16900.0', '2338', '4930.677069']\n",
      "['14800.0', '2343', '4909.711287']\n",
      "['16000.0', '2108', '4891.183054']\n",
      "['16400.0', '2415', '4874.305523']\n",
      "['19400.0', '2368', '4854.381856']\n",
      "['14900.0', '2124', '4835.476744']\n",
      "['15900.0', '2286', '4818.356371']\n",
      "['16900.0', '2386', '4800.078104']\n",
      "['16600.0', '2458', '4779.018858']\n",
      "['15500.0', '2220', '4758.550923']\n",
      "['12600.0', '1818', '4739.939733']\n",
      "['15700.0', '2149', '4725.321468']\n",
      "['21300.0', '2794', '4707.266839']\n",
      "['11900.0', '1810', '4683.593824']\n",
      "['16800.0', '2298', '4668.608367']\n",
      "['7800.0', '1513', '4650.088764']\n",
      "['11300.0', '1850', '4637.358016']\n",
      "['7200.0', '1369', '4621.447456']\n",
      "['9900.0', '1623', '4610.259747']\n",
      "['11000.0', '2020', '4596.988451']\n",
      "['14100.0', '2127', '4579.657223']\n",
      "['11900.0', '1918', '4562.518274']\n",
      "['14200.0', '2147', '4547.09111']\n",
      "['10700.0', '1938', '4528.496157']\n",
      "['17500.0', '2816', '4511.736721']\n",
      "['9500.0', '1496', '4486.463723']\n",
      "['23000.0', '3136', '4473.737432']\n",
      "['12600.0', '2167', '4446.738845']\n",
      "['13300.0', '2197', '4427.246047']\n",
      "['8800.0', '1888', '4408.111977']\n",
      "['11100.0', '1714', '4391.740292']\n",
      "['10000.0', '2057', '4376.357074']\n",
      "['16800.0', '2343', '4357.603079']\n",
      "['8800.0', '1597', '4338.752384']\n"
     ]
    }
   ],
   "source": [
    "import csv\n",
    "line_count = 0\n",
    "with open(filenameStr) as csv_file:\n",
    "    for row in reversed(list(csv.reader(csv_file))):\n",
    "        print (str(row))\n",
    "        line_count += 1\n",
    "        if line_count > 50: \n",
    "            break"
   ]
  },
  {
   "cell_type": "markdown",
   "metadata": {},
   "source": [
    "# Capture Reward and Plot"
   ]
  },
  {
   "cell_type": "code",
   "execution_count": 38,
   "metadata": {},
   "outputs": [],
   "source": [
    "import csv\n",
    "data = []\n",
    "line_count = 0\n",
    "with open(filenameStr) as csv_file:\n",
    "    csv_reader = csv.reader(csv_file, delimiter=',')\n",
    "    line_count = 0\n",
    "    for row in csv_reader:\n",
    "        #print('line_count: ' + str(line_count) + ' ' + str(row))\n",
    "        line_count += 1\n",
    "        \n",
    "        if line_count > 2:\n",
    "            #print('   reward: ' + str(row[0]))\n",
    "            #print(type(float(row[0])))        \n",
    "            data += [ float( row[0]) ]\n",
    "        #if line_count > 1000:\n",
    "        #    print(data)\n",
    "        #    break"
   ]
  },
  {
   "cell_type": "code",
   "execution_count": 39,
   "metadata": {},
   "outputs": [
    {
     "data": {
      "text/plain": [
       "[<matplotlib.lines.Line2D at 0x7f5910c15860>]"
      ]
     },
     "execution_count": 39,
     "metadata": {},
     "output_type": "execute_result"
    },
    {
     "data": {
      "image/png": "[encoded data removed]",
      "text/plain": [
       "<Figure size 432x288 with 1 Axes>"
      ]
     },
     "metadata": {},
     "output_type": "display_data"
    }
   ],
   "source": [
    "plt.figure()\n",
    "plt.plot(data)"
   ]
  },
  {
   "cell_type": "code",
   "execution_count": 40,
   "metadata": {},
   "outputs": [
    {
     "data": {
      "text/plain": [
       "304"
      ]
     },
     "execution_count": 40,
     "metadata": {},
     "output_type": "execute_result"
    }
   ],
   "source": [
    "len(data)"
   ]
  },
  {
   "cell_type": "code",
   "execution_count": 41,
   "metadata": {},
   "outputs": [],
   "source": [
    "plt.show()"
   ]
  },
  {
   "cell_type": "code",
   "execution_count": 46,
   "metadata": {},
   "outputs": [
    {
     "name": "stdout",
     "output_type": "stream",
     "text": [
      "Collecting pandas\n",
      "\u001b[?25l  Downloading https://files.pythonhosted.org/packages/e1/d8/feeb346d41f181e83fba45224ab14a8d8af019b48af742e047f3845d8cff/pandas-0.23.4-cp36-cp36m-manylinux1_x86_64.whl (8.9MB)\n",
      "\u001b[K    100% |████████████████████████████████| 8.9MB 1.6MB/s ta 0:00:011\n",
      "\u001b[?25hRequirement already satisfied: pytz>=2011k in /opt/conda/lib/python3.6/site-packages (from pandas) (2018.5)\n",
      "Requirement already satisfied: numpy>=1.9.0 in /opt/conda/lib/python3.6/site-packages (from pandas) (1.15.0)\n",
      "Requirement already satisfied: python-dateutil>=2.5.0 in /opt/conda/lib/python3.6/site-packages (from pandas) (2.7.3)\n",
      "Requirement already satisfied: six>=1.5 in /opt/conda/lib/python3.6/site-packages (from python-dateutil>=2.5.0->pandas) (1.11.0)\n",
      "Installing collected packages: pandas\n",
      "Successfully installed pandas-0.23.4\n"
     ]
    }
   ],
   "source": [
    "!pip install pandas"
   ]
  },
  {
   "cell_type": "code",
   "execution_count": 50,
   "metadata": {},
   "outputs": [],
   "source": [
    "import pandas as pd"
   ]
  },
  {
   "cell_type": "code",
   "execution_count": 51,
   "metadata": {},
   "outputs": [],
   "source": [
    "dataDF = pd.DataFrame(data)"
   ]
  },
  {
   "cell_type": "code",
   "execution_count": 52,
   "metadata": {},
   "outputs": [
    {
     "data": {
      "text/plain": [
       "[<matplotlib.lines.Line2D at 0x7f58e9ed20f0>]"
      ]
     },
     "execution_count": 52,
     "metadata": {},
     "output_type": "execute_result"
    },
    {
     "data": {
      "image/png": "[encoded data removed]",
      "text/plain": [
       "<Figure size 432x288 with 1 Axes>"
      ]
     },
     "metadata": {},
     "output_type": "display_data"
    }
   ],
   "source": [
    "plt.plot(dataDF.rolling(window=25).mean())"
   ]
  },
  {
   "cell_type": "code",
   "execution_count": null,
   "metadata": {},
   "outputs": [],
   "source": [
    "16*300"
   ]
  },
  {
   "cell_type": "markdown",
   "metadata": {},
   "source": [
    "# Behavior Vids [ frame capture from agent chosen actions at var points in learning curve]"
   ]
  },
  {
   "cell_type": "markdown",
   "metadata": {},
   "source": [
    "<code>user selects P=3 points -- \n",
    "       build code to run inference on checkpointed model\n",
    "        @ closest available make P video loops; NF=100 frames per video loop</code>\n"
   ]
  },
  {
   "cell_type": "markdown",
   "metadata": {},
   "source": [
    "TODO: determine frame to checkpoint mapping"
   ]
  },
  {
   "cell_type": "code",
   "execution_count": 25,
   "metadata": {},
   "outputs": [],
   "source": [
    "import torch"
   ]
  },
  {
   "cell_type": "code",
   "execution_count": 26,
   "metadata": {},
   "outputs": [],
   "source": [
    "modelCheckpoint = torch.load('/workspace/pytorch-a2c-ppo-acktr/trained_models/ppo/KungFuMasterNoFrameskip-v0.pt')"
   ]
  },
  {
   "cell_type": "code",
   "execution_count": 27,
   "metadata": {},
   "outputs": [
    {
     "data": {
      "text/plain": [
       "list"
      ]
     },
     "execution_count": 27,
     "metadata": {},
     "output_type": "execute_result"
    }
   ],
   "source": [
    "type(modelCheckpoint)"
   ]
  },
  {
   "cell_type": "code",
   "execution_count": 28,
   "metadata": {},
   "outputs": [],
   "source": [
    "model = modelCheckpoint[0]"
   ]
  },
  {
   "cell_type": "code",
   "execution_count": 29,
   "metadata": {},
   "outputs": [
    {
     "data": {
      "text/plain": [
       "Policy(\n",
       "  (base): CNNBase(\n",
       "    (main): Sequential(\n",
       "      (0): Conv2d(4, 32, kernel_size=(8, 8), stride=(4, 4))\n",
       "      (1): ReLU()\n",
       "      (2): Conv2d(32, 64, kernel_size=(4, 4), stride=(2, 2))\n",
       "      (3): ReLU()\n",
       "      (4): Conv2d(64, 32, kernel_size=(3, 3), stride=(1, 1))\n",
       "      (5): ReLU()\n",
       "      (6): Flatten()\n",
       "      (7): Linear(in_features=1568, out_features=512, bias=True)\n",
       "      (8): ReLU()\n",
       "    )\n",
       "    (critic_linear): Linear(in_features=512, out_features=1, bias=True)\n",
       "  )\n",
       "  (dist): Categorical(\n",
       "    (linear): Linear(in_features=512, out_features=14, bias=True)\n",
       "  )\n",
       ")"
      ]
     },
     "execution_count": 29,
     "metadata": {},
     "output_type": "execute_result"
    }
   ],
   "source": [
    "model.eval()"
   ]
  },
  {
   "cell_type": "code",
   "execution_count": 30,
   "metadata": {},
   "outputs": [
    {
     "name": "stdout",
     "output_type": "stream",
     "text": [
      "<class 'torch.Tensor'> torch.Size([32, 4, 8, 8])\n",
      "<class 'torch.Tensor'> torch.Size([32])\n",
      "<class 'torch.Tensor'> torch.Size([64, 32, 4, 4])\n",
      "<class 'torch.Tensor'> torch.Size([64])\n",
      "<class 'torch.Tensor'> torch.Size([32, 64, 3, 3])\n",
      "<class 'torch.Tensor'> torch.Size([32])\n",
      "<class 'torch.Tensor'> torch.Size([512, 1568])\n",
      "<class 'torch.Tensor'> torch.Size([512])\n",
      "<class 'torch.Tensor'> torch.Size([1, 512])\n",
      "<class 'torch.Tensor'> torch.Size([1])\n",
      "<class 'torch.Tensor'> torch.Size([14, 512])\n",
      "<class 'torch.Tensor'> torch.Size([14])\n"
     ]
    }
   ],
   "source": [
    "for param in modelCheckpoint[0].parameters():\n",
    "    print(type(param.data), param.size())"
   ]
  },
  {
   "cell_type": "code",
   "execution_count": 31,
   "metadata": {},
   "outputs": [],
   "source": [
    "import gym\n",
    "import matplotlib.pylab as plt"
   ]
  },
  {
   "cell_type": "code",
   "execution_count": 32,
   "metadata": {},
   "outputs": [],
   "source": [
    "import envs"
   ]
  },
  {
   "cell_type": "code",
   "execution_count": 33,
   "metadata": {},
   "outputs": [
    {
     "name": "stdout",
     "output_type": "stream",
     "text": [
      "hmm\n",
      "original observation shape: (84, 84, 1)\n",
      "new observation shape: (1, 84, 84)\n"
     ]
    }
   ],
   "source": [
    "env = envs.make_env('KungFuMasterNoFrameskip-v0', 0, 0, '', False, False)()"
   ]
  },
  {
   "cell_type": "code",
   "execution_count": null,
   "metadata": {},
   "outputs": [],
   "source": [
    "obs = env.reset()\n",
    "\n",
    "singleObs = torch.from_numpy(obs).float()\n",
    "inputBatch = singleObs.repeat(1,4,1,1)\n",
    "value, action, action_log_probs, rnn_hxs = model.act(inputBatch, [], [] )\n",
    "\n",
    "chosenAction= int(action.data)\n",
    "\n",
    "value, action, action_log_probs, rnn_hxs = model.act(inputBatch, [], [] )\n",
    "\n",
    "chosenAction = int(action.data)\n",
    "\n",
    "env.action_space.sample()"
   ]
  },
  {
   "cell_type": "markdown",
   "metadata": {},
   "source": [
    "# model inference & action loop "
   ]
  },
  {
   "cell_type": "code",
   "execution_count": 34,
   "metadata": {
    "scrolled": false
   },
   "outputs": [
    {
     "data": {
      "text/plain": [
       "<Figure size 432x288 with 0 Axes>"
      ]
     },
     "metadata": {},
     "output_type": "display_data"
    }
   ],
   "source": [
    "fig = plt.figure()\n",
    "def viz_state( env, step=0, info=\"\"):\n",
    "    plt.figure(fig.number, figsize=(9,9))\n",
    "    plt.clf()\n",
    "    plt.imshow(env.render(mode='rgb_array'))\n",
    "    plt.title(\"%s | Step: %d %s\" % (env.spec.id,step, info))\n",
    "    plt.axis('off')\n",
    "\n",
    "    display.clear_output(wait=True)\n",
    "    display.display(plt.gcf())        "
   ]
  },
  {
   "cell_type": "code",
   "execution_count": 35,
   "metadata": {},
   "outputs": [],
   "source": [
    "plt.show()"
   ]
  },
  {
   "cell_type": "code",
   "execution_count": 36,
   "metadata": {},
   "outputs": [],
   "source": [
    "def log ( observation, reward, done ):\n",
    "    # todo tensorboard\n",
    "    pass "
   ]
  },
  {
   "cell_type": "code",
   "execution_count": 37,
   "metadata": {},
   "outputs": [],
   "source": [
    "observation = env.reset()"
   ]
  },
  {
   "cell_type": "code",
   "execution_count": 38,
   "metadata": {},
   "outputs": [
    {
     "data": {
      "text/plain": [
       "array([[[0, 0, 0, ..., 0, 0, 0],\n",
       "        [0, 0, 0, ..., 0, 0, 0],\n",
       "        [0, 0, 0, ..., 0, 0, 0],\n",
       "        ...,\n",
       "        [0, 0, 0, ..., 0, 0, 0],\n",
       "        [0, 0, 0, ..., 0, 0, 0],\n",
       "        [0, 0, 0, ..., 0, 0, 0]]], dtype=uint8)"
      ]
     },
     "execution_count": 38,
     "metadata": {},
     "output_type": "execute_result"
    }
   ],
   "source": [
    "observation"
   ]
  },
  {
   "cell_type": "code",
   "execution_count": 40,
   "metadata": {
    "scrolled": false
   },
   "outputs": [
    {
     "data": {
      "image/png": "[encoded data removed]",
      "text/plain": [
       "<Figure size 648x648 with 1 Axes>"
      ]
     },
     "metadata": {},
     "output_type": "display_data"
    },
    {
     "data": {
      "image/png": "[encoded data removed]",
      "text/plain": [
       "<Figure size 648x648 with 1 Axes>"
      ]
     },
     "metadata": {},
     "output_type": "display_data"
    }
   ],
   "source": [
    "if 'KungFuMaster' in  env.spec.id:    \n",
    "    for i in range(100):\n",
    "        singleObs = torch.from_numpy(observation).float()\n",
    "        inputBatch = singleObs.repeat(1,4,1,1)\n",
    "        value, action, action_log_probs, rnn_hxs = model.act(inputBatch, [], [] )\n",
    "        chosenAction= int(action.data)\n",
    "        \n",
    "        #chosenAction = env.action_space.sample() # TODO: run model inference\n",
    "        observation, reward, done, info = env.step( chosenAction )\n",
    "        #log( observation, reward, done )\n",
    "        viz_state(env, i)"
   ]
  },
  {
   "cell_type": "code",
   "execution_count": null,
   "metadata": {},
   "outputs": [],
   "source": []
  }
 ],
 "metadata": {
  "kernelspec": {
   "display_name": "Python 3",
   "language": "python",
   "name": "python3"
  },
  "language_info": {
   "codemirror_mode": {
    "name": "ipython",
    "version": 3
   },
   "file_extension": ".py",
   "mimetype": "text/x-python",
   "name": "python",
   "nbconvert_exporter": "python",
   "pygments_lexer": "ipython3",
   "version": "3.6.5"
  }
 },
 "nbformat": 4,
 "nbformat_minor": 2
}
